{
 "cells": [
  {
   "cell_type": "code",
   "execution_count": 1,
   "id": "607581ad-7d1f-4b97-9626-f8e77d690ac4",
   "metadata": {},
   "outputs": [],
   "source": [
    "import os\n",
    "from skimage import io, transform\n",
    "import torch\n",
    "import torchvision\n",
    "from torch.autograd import Variable\n",
    "import torch.nn as nn\n",
    "import torch.nn.functional as F\n",
    "from torch.utils.data import Dataset, DataLoader\n",
    "from torchvision import transforms#, utils\n",
    "# import torch.optim as optim\n",
    "\n",
    "import numpy as np\n",
    "from PIL import Image\n",
    "import glob\n",
    "\n",
    "import sys\n",
    "\n",
    "from tqdm.notebook import tqdm_notebook"
   ]
  },
  {
   "cell_type": "code",
   "execution_count": 2,
   "id": "224efa4a-f296-4f1a-a87b-66cc385471fc",
   "metadata": {},
   "outputs": [
    {
     "name": "stdout",
     "output_type": "stream",
     "text": [
      "D:\\CMPT_489_Bulk\\Data\n",
      "Path exists: True\n"
     ]
    }
   ],
   "source": [
    "from data_loader import RescaleT\n",
    "from data_loader import ToTensor\n",
    "from data_loader import ToTensorLab\n",
    "from data_loader import SalObjDataset\n",
    "\n",
    "from model import U2NET # full size version 173.6 MB\n",
    "from model import U2NETP # small version u2net 4.7 MB\n",
    "\n",
    "bulkDataPath = os.path.join('D:\\\\', 'CMPT_489_Bulk', 'Data')\n",
    "print(bulkDataPath)\n",
    "print(\"Path exists:\", os.path.isdir(bulkDataPath))"
   ]
  },
  {
   "cell_type": "code",
   "execution_count": 3,
   "id": "5fd65e18-f1aa-4ea4-9849-cf034c34c444",
   "metadata": {},
   "outputs": [],
   "source": [
    "# normalize the predicted SOD probability map\n",
    "def normPRED(d):\n",
    "    ma = torch.max(d)\n",
    "    mi = torch.min(d)\n",
    "\n",
    "    dn = (d-mi)/(ma-mi)\n",
    "\n",
    "    return dn\n",
    "\n",
    "def save_output(image_name,pred,d_dir):\n",
    "\n",
    "    predict = pred\n",
    "    predict = predict.squeeze()\n",
    "    predict_np = predict.cpu().data.numpy()\n",
    "\n",
    "    im = Image.fromarray(predict_np*255).convert('RGB')\n",
    "    img_name = image_name.split(os.sep)[-1]\n",
    "    image = io.imread(image_name)\n",
    "    imo = im.resize((image.shape[1],image.shape[0]),resample=Image.BILINEAR)\n",
    "\n",
    "    pb_np = np.array(imo)\n",
    "\n",
    "    aaa = img_name.split(\".\")\n",
    "    bbb = aaa[0:-1]\n",
    "    imidx = bbb[0]\n",
    "    for i in range(1,len(bbb)):\n",
    "        imidx = imidx + \".\" + bbb[i]\n",
    "\n",
    "    imo.save(d_dir+imidx+'.png')"
   ]
  },
  {
   "cell_type": "code",
   "execution_count": 16,
   "id": "dd829dbc-9974-45ba-8de3-b1fd03ac1991",
   "metadata": {},
   "outputs": [],
   "source": [
    "\n",
    "def test(mn):\n",
    "    print(\"--- testing \"+ mn+ \" ---\")\n",
    "\n",
    "    # --------- 1. get image path and name ---------\n",
    "    model_name= mn #u2netp\n",
    "\n",
    "    image_dir = os.path.join(bulkDataPath, 'sub_matching_data', 'val\\\\')\n",
    "    prediction_dir = os.path.join(bulkDataPath, 'u2netp_results', model_name + os.sep)\n",
    "    model_dir = os.path.join(os.getcwd(), 'saved_models', 'u2netp_sub_vizwiz', model_name + '.pth')\n",
    "\n",
    "    \n",
    "    img_name_list = glob.glob(image_dir + os.sep + '*')\n",
    "\n",
    "    # --------- 2. dataloader ---------\n",
    "    #1. dataloader\n",
    "    test_salobj_dataset = SalObjDataset(img_name_list = img_name_list,\n",
    "                                        lbl_name_list = [],\n",
    "                                        transform=transforms.Compose([RescaleT(320),\n",
    "                                                                      ToTensorLab(flag=0)])\n",
    "                                        )\n",
    "    test_salobj_dataloader = DataLoader(test_salobj_dataset,\n",
    "                                        batch_size=1,\n",
    "                                        shuffle=False,\n",
    "                                        num_workers=1)\n",
    "\n",
    "    # --------- 3. model define ---------\n",
    "    if(model_name.split(\"_\")[0]=='u2net'):\n",
    "        print(\"...load U2NET---173.6 MB\")\n",
    "        net = U2NET(3,1)\n",
    "    elif(model_name.split(\"_\")[0]=='u2netp'):\n",
    "        print(\"...load U2NEP---4.7 MB\")\n",
    "        net = U2NETP(3,1)\n",
    "\n",
    "    if torch.cuda.is_available():\n",
    "        net.load_state_dict(torch.load(model_dir))\n",
    "        net.cuda()\n",
    "    else:\n",
    "        net.load_state_dict(torch.load(model_dir, map_location='cpu'))\n",
    "    net.eval()\n",
    "\n",
    "    # --------- 4. inference for each image ---------\n",
    "    for i_test, data_test in enumerate(tqdm_notebook(test_salobj_dataloader)):\n",
    "\n",
    "        # print(\"inferencing:\",img_name_list[i_test].split(os.sep)[-1])\n",
    "\n",
    "        inputs_test = data_test['image']\n",
    "        inputs_test = inputs_test.type(torch.FloatTensor)\n",
    "\n",
    "        if torch.cuda.is_available():\n",
    "            inputs_test = Variable(inputs_test.cuda())\n",
    "        else:\n",
    "            inputs_test = Variable(inputs_test)\n",
    "\n",
    "        d1,d2,d3,d4,d5,d6,d7= net(inputs_test)\n",
    "\n",
    "        # normalization\n",
    "        pred = d1[:,0,:,:]\n",
    "        pred = normPRED(pred)\n",
    "\n",
    "        # save results to test_results folder\n",
    "        if not os.path.exists(prediction_dir):\n",
    "            os.makedirs(prediction_dir, exist_ok=True)\n",
    "        save_output(img_name_list[i_test],pred,prediction_dir)\n",
    "\n",
    "        del d1,d2,d3,d4,d5,d6,d7\n",
    "\n"
   ]
  },
  {
   "cell_type": "code",
   "execution_count": 17,
   "id": "3b401eaf-c5c1-4a32-a42a-81972515e91c",
   "metadata": {},
   "outputs": [
    {
     "name": "stdout",
     "output_type": "stream",
     "text": [
      "--- testing u2netp_sub_vizwiz_bce_itr_10000_train_2.161453_tar_0.301635 ---\n",
      "...load U2NEP---4.7 MB\n"
     ]
    },
    {
     "data": {
      "application/vnd.jupyter.widget-view+json": {
       "model_id": "688e47ce6564460ca029887bd77f804b",
       "version_major": 2,
       "version_minor": 0
      },
      "text/plain": [
       "  0%|          | 0/2500 [00:00<?, ?it/s]"
      ]
     },
     "metadata": {},
     "output_type": "display_data"
    },
    {
     "name": "stdout",
     "output_type": "stream",
     "text": [
      "--- testing u2netp_sub_vizwiz_bce_itr_1000_train_4.088663_tar_0.581359 ---\n",
      "...load U2NEP---4.7 MB\n"
     ]
    },
    {
     "data": {
      "application/vnd.jupyter.widget-view+json": {
       "model_id": "45b136024d3949fe949af9bd9175d6c3",
       "version_major": 2,
       "version_minor": 0
      },
      "text/plain": [
       "  0%|          | 0/2500 [00:00<?, ?it/s]"
      ]
     },
     "metadata": {},
     "output_type": "display_data"
    },
    {
     "name": "stdout",
     "output_type": "stream",
     "text": [
      "--- testing u2netp_sub_vizwiz_bce_itr_11000_train_2.107132_tar_0.293022 ---\n",
      "...load U2NEP---4.7 MB\n"
     ]
    },
    {
     "data": {
      "application/vnd.jupyter.widget-view+json": {
       "model_id": "e0065c10b82b4b29b9d25992fbc809c9",
       "version_major": 2,
       "version_minor": 0
      },
      "text/plain": [
       "  0%|          | 0/2500 [00:00<?, ?it/s]"
      ]
     },
     "metadata": {},
     "output_type": "display_data"
    },
    {
     "name": "stdout",
     "output_type": "stream",
     "text": [
      "--- testing u2netp_sub_vizwiz_bce_itr_12000_train_2.051164_tar_0.284970 ---\n",
      "...load U2NEP---4.7 MB\n"
     ]
    },
    {
     "data": {
      "application/vnd.jupyter.widget-view+json": {
       "model_id": "2578bcdac6dc48f1a1e3bb5dbf3e7ad6",
       "version_major": 2,
       "version_minor": 0
      },
      "text/plain": [
       "  0%|          | 0/2500 [00:00<?, ?it/s]"
      ]
     },
     "metadata": {},
     "output_type": "display_data"
    },
    {
     "name": "stdout",
     "output_type": "stream",
     "text": [
      "--- testing u2netp_sub_vizwiz_bce_itr_13000_train_1.957236_tar_0.271083 ---\n",
      "...load U2NEP---4.7 MB\n"
     ]
    },
    {
     "data": {
      "application/vnd.jupyter.widget-view+json": {
       "model_id": "71db769cc39b4730af1d3015a01b7009",
       "version_major": 2,
       "version_minor": 0
      },
      "text/plain": [
       "  0%|          | 0/2500 [00:00<?, ?it/s]"
      ]
     },
     "metadata": {},
     "output_type": "display_data"
    },
    {
     "name": "stdout",
     "output_type": "stream",
     "text": [
      "--- testing u2netp_sub_vizwiz_bce_itr_14000_train_1.882877_tar_0.259915 ---\n",
      "...load U2NEP---4.7 MB\n"
     ]
    },
    {
     "data": {
      "application/vnd.jupyter.widget-view+json": {
       "model_id": "4e198ad6336b4f439d93a0c4855c32a1",
       "version_major": 2,
       "version_minor": 0
      },
      "text/plain": [
       "  0%|          | 0/2500 [00:00<?, ?it/s]"
      ]
     },
     "metadata": {},
     "output_type": "display_data"
    },
    {
     "name": "stdout",
     "output_type": "stream",
     "text": [
      "--- testing u2netp_sub_vizwiz_bce_itr_15000_train_1.824028_tar_0.251176 ---\n",
      "...load U2NEP---4.7 MB\n"
     ]
    },
    {
     "data": {
      "application/vnd.jupyter.widget-view+json": {
       "model_id": "b72a9d0d5e3741ef9446fc7c1af8944a",
       "version_major": 2,
       "version_minor": 0
      },
      "text/plain": [
       "  0%|          | 0/2500 [00:00<?, ?it/s]"
      ]
     },
     "metadata": {},
     "output_type": "display_data"
    },
    {
     "name": "stdout",
     "output_type": "stream",
     "text": [
      "--- testing u2netp_sub_vizwiz_bce_itr_16000_train_1.772376_tar_0.243316 ---\n",
      "...load U2NEP---4.7 MB\n"
     ]
    },
    {
     "data": {
      "application/vnd.jupyter.widget-view+json": {
       "model_id": "b9932c5fa08b48f2b8c9a26f88e977b0",
       "version_major": 2,
       "version_minor": 0
      },
      "text/plain": [
       "  0%|          | 0/2500 [00:00<?, ?it/s]"
      ]
     },
     "metadata": {},
     "output_type": "display_data"
    },
    {
     "name": "stdout",
     "output_type": "stream",
     "text": [
      "--- testing u2netp_sub_vizwiz_bce_itr_17000_train_1.707042_tar_0.233546 ---\n",
      "...load U2NEP---4.7 MB\n"
     ]
    },
    {
     "data": {
      "application/vnd.jupyter.widget-view+json": {
       "model_id": "0b19021b6ec24276b8733319275f9ebe",
       "version_major": 2,
       "version_minor": 0
      },
      "text/plain": [
       "  0%|          | 0/2500 [00:00<?, ?it/s]"
      ]
     },
     "metadata": {},
     "output_type": "display_data"
    },
    {
     "name": "stdout",
     "output_type": "stream",
     "text": [
      "--- testing u2netp_sub_vizwiz_bce_itr_18000_train_1.654696_tar_0.225983 ---\n",
      "...load U2NEP---4.7 MB\n"
     ]
    },
    {
     "data": {
      "application/vnd.jupyter.widget-view+json": {
       "model_id": "4fa161d7cce748849b9b1580becb9669",
       "version_major": 2,
       "version_minor": 0
      },
      "text/plain": [
       "  0%|          | 0/2500 [00:00<?, ?it/s]"
      ]
     },
     "metadata": {},
     "output_type": "display_data"
    },
    {
     "name": "stdout",
     "output_type": "stream",
     "text": [
      "--- testing u2netp_sub_vizwiz_bce_itr_19000_train_1.626005_tar_0.221538 ---\n",
      "...load U2NEP---4.7 MB\n"
     ]
    },
    {
     "data": {
      "application/vnd.jupyter.widget-view+json": {
       "model_id": "9cfbd66c84f5440c8cf2871b4dde9a3d",
       "version_major": 2,
       "version_minor": 0
      },
      "text/plain": [
       "  0%|          | 0/2500 [00:00<?, ?it/s]"
      ]
     },
     "metadata": {},
     "output_type": "display_data"
    },
    {
     "name": "stdout",
     "output_type": "stream",
     "text": [
      "--- testing u2netp_sub_vizwiz_bce_itr_20000_train_1.556143_tar_0.211508 ---\n",
      "...load U2NEP---4.7 MB\n"
     ]
    },
    {
     "data": {
      "application/vnd.jupyter.widget-view+json": {
       "model_id": "f17f8b3fba1a4f32980f398574b64e50",
       "version_major": 2,
       "version_minor": 0
      },
      "text/plain": [
       "  0%|          | 0/2500 [00:00<?, ?it/s]"
      ]
     },
     "metadata": {},
     "output_type": "display_data"
    },
    {
     "name": "stdout",
     "output_type": "stream",
     "text": [
      "--- testing u2netp_sub_vizwiz_bce_itr_2000_train_3.497421_tar_0.494223 ---\n",
      "...load U2NEP---4.7 MB\n"
     ]
    },
    {
     "data": {
      "application/vnd.jupyter.widget-view+json": {
       "model_id": "5aba7ef9629545bf8c7f97634b439a36",
       "version_major": 2,
       "version_minor": 0
      },
      "text/plain": [
       "  0%|          | 0/2500 [00:00<?, ?it/s]"
      ]
     },
     "metadata": {},
     "output_type": "display_data"
    },
    {
     "name": "stdout",
     "output_type": "stream",
     "text": [
      "--- testing u2netp_sub_vizwiz_bce_itr_21000_train_1.545365_tar_0.209725 ---\n",
      "...load U2NEP---4.7 MB\n"
     ]
    },
    {
     "data": {
      "application/vnd.jupyter.widget-view+json": {
       "model_id": "904400febbf94c0f9d47078bd1b340bb",
       "version_major": 2,
       "version_minor": 0
      },
      "text/plain": [
       "  0%|          | 0/2500 [00:00<?, ?it/s]"
      ]
     },
     "metadata": {},
     "output_type": "display_data"
    },
    {
     "name": "stdout",
     "output_type": "stream",
     "text": [
      "--- testing u2netp_sub_vizwiz_bce_itr_22000_train_1.489582_tar_0.201485 ---\n",
      "...load U2NEP---4.7 MB\n"
     ]
    },
    {
     "data": {
      "application/vnd.jupyter.widget-view+json": {
       "model_id": "69f62e57ebfd4e7780748927c7371c03",
       "version_major": 2,
       "version_minor": 0
      },
      "text/plain": [
       "  0%|          | 0/2500 [00:00<?, ?it/s]"
      ]
     },
     "metadata": {},
     "output_type": "display_data"
    },
    {
     "name": "stdout",
     "output_type": "stream",
     "text": [
      "--- testing u2netp_sub_vizwiz_bce_itr_23000_train_1.446585_tar_0.195125 ---\n",
      "...load U2NEP---4.7 MB\n"
     ]
    },
    {
     "data": {
      "application/vnd.jupyter.widget-view+json": {
       "model_id": "df08f49f473f42f38b9cca7c0e16ed5b",
       "version_major": 2,
       "version_minor": 0
      },
      "text/plain": [
       "  0%|          | 0/2500 [00:00<?, ?it/s]"
      ]
     },
     "metadata": {},
     "output_type": "display_data"
    },
    {
     "name": "stdout",
     "output_type": "stream",
     "text": [
      "--- testing u2netp_sub_vizwiz_bce_itr_3000_train_3.140997_tar_0.441988 ---\n",
      "...load U2NEP---4.7 MB\n"
     ]
    },
    {
     "data": {
      "application/vnd.jupyter.widget-view+json": {
       "model_id": "f7f1ebf7f6b64b84b6c1c37ea20b7c35",
       "version_major": 2,
       "version_minor": 0
      },
      "text/plain": [
       "  0%|          | 0/2500 [00:00<?, ?it/s]"
      ]
     },
     "metadata": {},
     "output_type": "display_data"
    },
    {
     "name": "stdout",
     "output_type": "stream",
     "text": [
      "--- testing u2netp_sub_vizwiz_bce_itr_4000_train_2.880650_tar_0.404842 ---\n",
      "...load U2NEP---4.7 MB\n"
     ]
    },
    {
     "data": {
      "application/vnd.jupyter.widget-view+json": {
       "model_id": "25d43700b8a54b848ec7e516bf2804e3",
       "version_major": 2,
       "version_minor": 0
      },
      "text/plain": [
       "  0%|          | 0/2500 [00:00<?, ?it/s]"
      ]
     },
     "metadata": {},
     "output_type": "display_data"
    },
    {
     "name": "stdout",
     "output_type": "stream",
     "text": [
      "--- testing u2netp_sub_vizwiz_bce_itr_5000_train_2.715347_tar_0.381688 ---\n",
      "...load U2NEP---4.7 MB\n"
     ]
    },
    {
     "data": {
      "application/vnd.jupyter.widget-view+json": {
       "model_id": "a8e40be01dc64b2085d6577af1a862a4",
       "version_major": 2,
       "version_minor": 0
      },
      "text/plain": [
       "  0%|          | 0/2500 [00:00<?, ?it/s]"
      ]
     },
     "metadata": {},
     "output_type": "display_data"
    },
    {
     "name": "stdout",
     "output_type": "stream",
     "text": [
      "--- testing u2netp_sub_vizwiz_bce_itr_6000_train_2.602593_tar_0.365563 ---\n",
      "...load U2NEP---4.7 MB\n"
     ]
    },
    {
     "data": {
      "application/vnd.jupyter.widget-view+json": {
       "model_id": "b3d0bc41414b47feb29f91ff90b5b709",
       "version_major": 2,
       "version_minor": 0
      },
      "text/plain": [
       "  0%|          | 0/2500 [00:00<?, ?it/s]"
      ]
     },
     "metadata": {},
     "output_type": "display_data"
    },
    {
     "name": "stdout",
     "output_type": "stream",
     "text": [
      "--- testing u2netp_sub_vizwiz_bce_itr_7000_train_2.455525_tar_0.344322 ---\n",
      "...load U2NEP---4.7 MB\n"
     ]
    },
    {
     "data": {
      "application/vnd.jupyter.widget-view+json": {
       "model_id": "1728a1d45d894163b787ed12b889bd4c",
       "version_major": 2,
       "version_minor": 0
      },
      "text/plain": [
       "  0%|          | 0/2500 [00:00<?, ?it/s]"
      ]
     },
     "metadata": {},
     "output_type": "display_data"
    },
    {
     "name": "stdout",
     "output_type": "stream",
     "text": [
      "--- testing u2netp_sub_vizwiz_bce_itr_8000_train_2.357673_tar_0.330342 ---\n",
      "...load U2NEP---4.7 MB\n"
     ]
    },
    {
     "data": {
      "application/vnd.jupyter.widget-view+json": {
       "model_id": "5c732bb18dfb4aef81bac9183903ed8b",
       "version_major": 2,
       "version_minor": 0
      },
      "text/plain": [
       "  0%|          | 0/2500 [00:00<?, ?it/s]"
      ]
     },
     "metadata": {},
     "output_type": "display_data"
    },
    {
     "name": "stdout",
     "output_type": "stream",
     "text": [
      "--- testing u2netp_sub_vizwiz_bce_itr_9000_train_2.256964_tar_0.315464 ---\n",
      "...load U2NEP---4.7 MB\n"
     ]
    },
    {
     "data": {
      "application/vnd.jupyter.widget-view+json": {
       "model_id": "ca092148e2e547ee83d5cb69243196c2",
       "version_major": 2,
       "version_minor": 0
      },
      "text/plain": [
       "  0%|          | 0/2500 [00:00<?, ?it/s]"
      ]
     },
     "metadata": {},
     "output_type": "display_data"
    }
   ],
   "source": [
    "\n",
    "for root, dirs, files in os.walk(os.path.join(os.getcwd(), 'saved_models', 'u2netp_sub_vizwiz' + os.sep)):\n",
    "    for filename in files:\n",
    "        if filename[-4:] != '.pth':\n",
    "            print(filename)\n",
    "            continue\n",
    "        test(filename[:-4])\n",
    "\n"
   ]
  },
  {
   "cell_type": "code",
   "execution_count": null,
   "id": "b5b38aa4-0ed2-45ae-bed5-fb69efb9f6c9",
   "metadata": {},
   "outputs": [],
   "source": []
  }
 ],
 "metadata": {
  "kernelspec": {
   "display_name": "Python 3 (ipykernel)",
   "language": "python",
   "name": "python3"
  },
  "language_info": {
   "codemirror_mode": {
    "name": "ipython",
    "version": 3
   },
   "file_extension": ".py",
   "mimetype": "text/x-python",
   "name": "python",
   "nbconvert_exporter": "python",
   "pygments_lexer": "ipython3",
   "version": "3.9.16"
  }
 },
 "nbformat": 4,
 "nbformat_minor": 5
}
