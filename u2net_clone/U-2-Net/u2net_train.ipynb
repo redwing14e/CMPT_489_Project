{
 "cells": [
  {
   "cell_type": "code",
   "execution_count": 1,
   "id": "4ca71b1a-ce4c-4de0-bfee-354fa91c53f2",
   "metadata": {},
   "outputs": [],
   "source": [
    "import os\n",
    "import torch\n",
    "import torchvision\n",
    "from torch.autograd import Variable\n",
    "import torch.nn as nn\n",
    "import torch.nn.functional as F\n",
    "\n",
    "from torch.utils.data import Dataset, DataLoader\n",
    "from torchvision import transforms, utils\n",
    "import torch.optim as optim\n",
    "import torchvision.transforms as standard_transforms\n",
    "\n",
    "import numpy as np\n",
    "import glob\n",
    "import os"
   ]
  },
  {
   "cell_type": "code",
   "execution_count": 2,
   "id": "2d9b9599-8871-4a8b-ae33-a494ab013b45",
   "metadata": {},
   "outputs": [
    {
     "name": "stderr",
     "output_type": "stream",
     "text": [
      "C:\\Users\\llbue\\anaconda3\\envs\\DeepLearning\\lib\\site-packages\\skimage\\io\\manage_plugins.py:23: UserWarning: Your installed pillow version is < 8.1.2. Several security issues (CVE-2021-27921, CVE-2021-25290, CVE-2021-25291, CVE-2021-25293, and more) have been fixed in pillow 8.1.2 or higher. We recommend to upgrade this library.\n",
      "  from .collection import imread_collection_wrapper\n"
     ]
    },
    {
     "name": "stdout",
     "output_type": "stream",
     "text": [
      "D:\\CMPT_489_Bulk\\Data\n",
      "Path exists: True\n"
     ]
    }
   ],
   "source": [
    "from data_loader import Rescale\n",
    "from data_loader import RescaleT\n",
    "from data_loader import RandomCrop\n",
    "from data_loader import ToTensor\n",
    "from data_loader import ToTensorLab\n",
    "from data_loader import SalObjDataset\n",
    "\n",
    "from model import U2NET\n",
    "from model import U2NETP\n",
    "\n",
    "bulkDataPath = os.path.join('D:\\\\', 'CMPT_489_Bulk', 'Data')\n",
    "print(bulkDataPath)\n",
    "print(\"Path exists:\", os.path.isdir(bulkDataPath))\n",
    "\n",
    "from tqdm.notebook import tqdm_notebook"
   ]
  },
  {
   "cell_type": "code",
   "execution_count": 3,
   "id": "8b9df863-5ea2-46ed-855f-409d039a893a",
   "metadata": {},
   "outputs": [
    {
     "name": "stderr",
     "output_type": "stream",
     "text": [
      "C:\\Users\\llbue\\anaconda3\\envs\\DeepLearning\\lib\\site-packages\\torch\\nn\\_reduction.py:42: UserWarning: size_average and reduce args will be deprecated, please use reduction='mean' instead.\n",
      "  warnings.warn(warning.format(ret))\n"
     ]
    }
   ],
   "source": [
    "# ------- 1. define loss function --------\n",
    "\n",
    "bce_loss = nn.BCELoss(size_average=True)\n",
    "\n",
    "def muti_bce_loss_fusion(d0, d1, d2, d3, d4, d5, d6, labels_v):\n",
    "\n",
    "\tloss0 = bce_loss(d0,labels_v)\n",
    "\tloss1 = bce_loss(d1,labels_v)\n",
    "\tloss2 = bce_loss(d2,labels_v)\n",
    "\tloss3 = bce_loss(d3,labels_v)\n",
    "\tloss4 = bce_loss(d4,labels_v)\n",
    "\tloss5 = bce_loss(d5,labels_v)\n",
    "\tloss6 = bce_loss(d6,labels_v)\n",
    "\n",
    "\tloss = loss0 + loss1 + loss2 + loss3 + loss4 + loss5 + loss6\n",
    "\t#print(\"l0: %3f, l1: %3f, l2: %3f, l3: %3f, l4: %3f, l5: %3f, l6: %3f\\n\"%(loss0.data.item(),loss1.data.item(),loss2.data.item(),loss3.data.item(),loss4.data.item(),loss5.data.item(),loss6.data.item()))\n",
    "\n",
    "\treturn loss0.float(), loss.float()"
   ]
  },
  {
   "cell_type": "code",
   "execution_count": 4,
   "id": "91b37ba1-a843-41ca-9766-f9bc949b41dc",
   "metadata": {},
   "outputs": [
    {
     "name": "stdout",
     "output_type": "stream",
     "text": [
      "---\n",
      "train images:  7500\n",
      "train labels:  7500\n",
      "---\n",
      "['D:\\\\CMPT_489_Bulk\\\\Data\\\\sub_matching_data\\\\train\\\\VizWiz_train_00000000.png', 'D:\\\\CMPT_489_Bulk\\\\Data\\\\sub_matching_data\\\\train\\\\VizWiz_train_00000002.png', 'D:\\\\CMPT_489_Bulk\\\\Data\\\\sub_matching_data\\\\train\\\\VizWiz_train_00000004.png']\n",
      "['D:\\\\CMPT_489_Bulk\\\\Data\\\\sub_binary_masks\\\\train\\\\VizWiz_train_00000000.png', 'D:\\\\CMPT_489_Bulk\\\\Data\\\\sub_binary_masks\\\\train\\\\VizWiz_train_00000002.png', 'D:\\\\CMPT_489_Bulk\\\\Data\\\\sub_binary_masks\\\\train\\\\VizWiz_train_00000004.png']\n"
     ]
    }
   ],
   "source": [
    "# ------- 2. set the directory of training dataset --------\n",
    "\n",
    "model_name = 'u2netp_sub_vizwiz' #'u2netp'\n",
    "\n",
    "data_dir = os.path.join(bulkDataPath + os.sep)\n",
    "tra_image_dir = os.path.join('sub_matching_data', 'train' + os.sep)\n",
    "tra_label_dir = os.path.join('sub_binary_masks', 'train' + os.sep)\n",
    "\n",
    "image_ext = '.png'\n",
    "label_ext = '.png'\n",
    "\n",
    "model_dir = os.path.join(os.getcwd(), 'saved_models', model_name + os.sep)\n",
    "\n",
    "epoch_num = 50 #100000\n",
    "batch_size_train = 16 #12\n",
    "batch_size_val = 1\n",
    "train_num = 0\n",
    "val_num = 0\n",
    "\n",
    "tra_img_name_list = glob.glob(data_dir + tra_image_dir + '*' + image_ext)\n",
    "\n",
    "tra_lbl_name_list = []\n",
    "for img_path in tra_img_name_list:\n",
    "\timg_name = img_path.split(os.sep)[-1]\n",
    "\n",
    "\taaa = img_name.split(\".\")\n",
    "\tbbb = aaa[0:-1]\n",
    "\timidx = bbb[0]\n",
    "\tfor i in range(1,len(bbb)):\n",
    "\t\timidx = imidx + \".\" + bbb[i]\n",
    "\n",
    "\ttra_lbl_name_list.append(data_dir + tra_label_dir + imidx + label_ext)\n",
    "\n",
    "print(\"---\")\n",
    "print(\"train images: \", len(tra_img_name_list))\n",
    "print(\"train labels: \", len(tra_lbl_name_list))\n",
    "print(\"---\")\n",
    "\n",
    "print(tra_img_name_list[0:3])\n",
    "print(tra_lbl_name_list[0:3])"
   ]
  },
  {
   "cell_type": "code",
   "execution_count": 5,
   "id": "bce93feb-fcc6-4641-ac03-9d7bd227b16d",
   "metadata": {},
   "outputs": [],
   "source": [
    "train_num = len(tra_img_name_list)\n",
    "\n",
    "salobj_dataset = SalObjDataset(\n",
    "    img_name_list=tra_img_name_list,\n",
    "    lbl_name_list=tra_lbl_name_list,\n",
    "    transform=transforms.Compose([\n",
    "        RescaleT(320),\n",
    "        RandomCrop(288),\n",
    "        ToTensorLab(flag=0)]))\n",
    "salobj_dataloader = DataLoader(salobj_dataset, batch_size=batch_size_train, shuffle=True, num_workers=1)"
   ]
  },
  {
   "cell_type": "code",
   "execution_count": 6,
   "id": "4cd0243b-86e1-447b-9396-74f1b6209b80",
   "metadata": {},
   "outputs": [
    {
     "name": "stdout",
     "output_type": "stream",
     "text": [
      "u2netp\n",
      "cuda\n"
     ]
    }
   ],
   "source": [
    "# ------- 3. define model --------\n",
    "# define the net\n",
    "if(model_name.split('_')[0]=='u2net'):\n",
    "    net = U2NET(3, 1)\n",
    "    print('u2net')\n",
    "elif(model_name.split('_')[0]=='u2netp'):\n",
    "    net = U2NETP(3,1)\n",
    "    print('u2netp')\n",
    "\n",
    "if torch.cuda.is_available():\n",
    "    net.cuda()\n",
    "    print(\"cuda\")"
   ]
  },
  {
   "cell_type": "code",
   "execution_count": 7,
   "id": "f5b2e766-b001-4837-896e-401a1443fe28",
   "metadata": {},
   "outputs": [
    {
     "name": "stdout",
     "output_type": "stream",
     "text": [
      "---define optimizer...\n"
     ]
    }
   ],
   "source": [
    "# ------- 4. define optimizer --------\n",
    "print(\"---define optimizer...\")\n",
    "optimizer = optim.Adam(net.parameters(), lr=0.001, betas=(0.9, 0.999), eps=1e-08, weight_decay=0)"
   ]
  },
  {
   "cell_type": "code",
   "execution_count": 8,
   "id": "9b82892c-38ca-4af0-a147-2987a471e7f2",
   "metadata": {},
   "outputs": [
    {
     "name": "stdout",
     "output_type": "stream",
     "text": [
      "---start training...\n"
     ]
    },
    {
     "data": {
      "application/vnd.jupyter.widget-view+json": {
       "model_id": "18e00a4a49154db283f576dd95ba9fac",
       "version_major": 2,
       "version_minor": 0
      },
      "text/plain": [
       "  0%|          | 0/469 [00:00<?, ?it/s]"
      ]
     },
     "metadata": {},
     "output_type": "display_data"
    },
    {
     "name": "stderr",
     "output_type": "stream",
     "text": [
      "C:\\Users\\llbue\\anaconda3\\envs\\DeepLearning\\lib\\site-packages\\torch\\nn\\functional.py:3734: UserWarning: nn.functional.upsample is deprecated. Use nn.functional.interpolate instead.\n",
      "  warnings.warn(\"nn.functional.upsample is deprecated. Use nn.functional.interpolate instead.\")\n",
      "C:\\Users\\llbue\\anaconda3\\envs\\DeepLearning\\lib\\site-packages\\torch\\nn\\functional.py:1967: UserWarning: nn.functional.sigmoid is deprecated. Use torch.sigmoid instead.\n",
      "  warnings.warn(\"nn.functional.sigmoid is deprecated. Use torch.sigmoid instead.\")\n"
     ]
    },
    {
     "name": "stdout",
     "output_type": "stream",
     "text": [
      "[epoch:   1/ 50, batch:   800/ 7500, ite: 50] train loss: 4.590174, tar: 0.657336 \n",
      "[epoch:   1/ 50, batch:  1600/ 7500, ite: 100] train loss: 4.496418, tar: 0.647364 \n",
      "[epoch:   1/ 50, batch:  2400/ 7500, ite: 150] train loss: 4.423298, tar: 0.635480 \n",
      "[epoch:   1/ 50, batch:  3200/ 7500, ite: 200] train loss: 4.382692, tar: 0.628119 \n",
      "[epoch:   1/ 50, batch:  4000/ 7500, ite: 250] train loss: 4.350256, tar: 0.622678 \n",
      "[epoch:   1/ 50, batch:  4800/ 7500, ite: 300] train loss: 4.309331, tar: 0.616072 \n",
      "[epoch:   1/ 50, batch:  5600/ 7500, ite: 350] train loss: 4.279991, tar: 0.611560 \n",
      "[epoch:   1/ 50, batch:  6400/ 7500, ite: 400] train loss: 4.256153, tar: 0.607718 \n",
      "[epoch:   1/ 50, batch:  7200/ 7500, ite: 450] train loss: 4.237548, tar: 0.604875 \n"
     ]
    },
    {
     "data": {
      "application/vnd.jupyter.widget-view+json": {
       "model_id": "d66e0fb684db41428a2c0855fc674175",
       "version_major": 2,
       "version_minor": 0
      },
      "text/plain": [
       "  0%|          | 0/469 [00:00<?, ?it/s]"
      ]
     },
     "metadata": {},
     "output_type": "display_data"
    },
    {
     "name": "stdout",
     "output_type": "stream",
     "text": [
      "[epoch:   2/ 50, batch:   496/ 7500, ite: 500] train loss: 4.238929, tar: 0.604423 \n",
      "[epoch:   2/ 50, batch:  1296/ 7500, ite: 550] train loss: 4.219682, tar: 0.601407 \n",
      "[epoch:   2/ 50, batch:  2096/ 7500, ite: 600] train loss: 4.206418, tar: 0.599187 \n",
      "[epoch:   2/ 50, batch:  2896/ 7500, ite: 650] train loss: 4.191351, tar: 0.596938 \n",
      "[epoch:   2/ 50, batch:  3696/ 7500, ite: 700] train loss: 4.170568, tar: 0.593828 \n",
      "[epoch:   2/ 50, batch:  4496/ 7500, ite: 750] train loss: 4.156740, tar: 0.591706 \n",
      "[epoch:   2/ 50, batch:  5296/ 7500, ite: 800] train loss: 4.145482, tar: 0.589868 \n",
      "[epoch:   2/ 50, batch:  6096/ 7500, ite: 850] train loss: 4.131299, tar: 0.587725 \n",
      "[epoch:   2/ 50, batch:  6896/ 7500, ite: 900] train loss: 4.113729, tar: 0.585141 \n"
     ]
    },
    {
     "data": {
      "application/vnd.jupyter.widget-view+json": {
       "model_id": "13a33015948f4639be1af959d094f87d",
       "version_major": 2,
       "version_minor": 0
      },
      "text/plain": [
       "  0%|          | 0/469 [00:00<?, ?it/s]"
      ]
     },
     "metadata": {},
     "output_type": "display_data"
    },
    {
     "name": "stdout",
     "output_type": "stream",
     "text": [
      "[epoch:   3/ 50, batch:   192/ 7500, ite: 950] train loss: 4.101290, tar: 0.583292 \n",
      "[epoch:   3/ 50, batch:   992/ 7500, ite: 1000] train loss: 4.088663, tar: 0.581359 \n",
      "[epoch:   3/ 50, batch:  1792/ 7500, ite: 1050] train loss: 3.791266, tar: 0.537246 \n",
      "[epoch:   3/ 50, batch:  2592/ 7500, ite: 1100] train loss: 3.719072, tar: 0.526523 \n",
      "[epoch:   3/ 50, batch:  3392/ 7500, ite: 1150] train loss: 3.721075, tar: 0.526705 \n",
      "[epoch:   3/ 50, batch:  4192/ 7500, ite: 1200] train loss: 3.733506, tar: 0.528389 \n",
      "[epoch:   3/ 50, batch:  4992/ 7500, ite: 1250] train loss: 3.735276, tar: 0.528556 \n",
      "[epoch:   3/ 50, batch:  5792/ 7500, ite: 1300] train loss: 3.715478, tar: 0.525876 \n",
      "[epoch:   3/ 50, batch:  6592/ 7500, ite: 1350] train loss: 3.677682, tar: 0.520351 \n",
      "[epoch:   3/ 50, batch:  7392/ 7500, ite: 1400] train loss: 3.650530, tar: 0.516425 \n"
     ]
    },
    {
     "data": {
      "application/vnd.jupyter.widget-view+json": {
       "model_id": "7b666c24953b4ade9640e7d25b5cd420",
       "version_major": 2,
       "version_minor": 0
      },
      "text/plain": [
       "  0%|          | 0/469 [00:00<?, ?it/s]"
      ]
     },
     "metadata": {},
     "output_type": "display_data"
    },
    {
     "name": "stdout",
     "output_type": "stream",
     "text": [
      "[epoch:   4/ 50, batch:   688/ 7500, ite: 1450] train loss: 3.641653, tar: 0.515155 \n",
      "[epoch:   4/ 50, batch:  1488/ 7500, ite: 1500] train loss: 3.613929, tar: 0.511273 \n",
      "[epoch:   4/ 50, batch:  2288/ 7500, ite: 1550] train loss: 3.602296, tar: 0.509525 \n",
      "[epoch:   4/ 50, batch:  3088/ 7500, ite: 1600] train loss: 3.590977, tar: 0.507842 \n",
      "[epoch:   4/ 50, batch:  3888/ 7500, ite: 1650] train loss: 3.577715, tar: 0.505942 \n",
      "[epoch:   4/ 50, batch:  4688/ 7500, ite: 1700] train loss: 3.562698, tar: 0.503741 \n",
      "[epoch:   4/ 50, batch:  5488/ 7500, ite: 1750] train loss: 3.548973, tar: 0.501714 \n",
      "[epoch:   4/ 50, batch:  6288/ 7500, ite: 1800] train loss: 3.536014, tar: 0.499845 \n",
      "[epoch:   4/ 50, batch:  7088/ 7500, ite: 1850] train loss: 3.529563, tar: 0.498931 \n"
     ]
    },
    {
     "data": {
      "application/vnd.jupyter.widget-view+json": {
       "model_id": "127af2ee7e1e4d28b84dcf2a9e15a419",
       "version_major": 2,
       "version_minor": 0
      },
      "text/plain": [
       "  0%|          | 0/469 [00:00<?, ?it/s]"
      ]
     },
     "metadata": {},
     "output_type": "display_data"
    },
    {
     "name": "stdout",
     "output_type": "stream",
     "text": [
      "[epoch:   5/ 50, batch:   384/ 7500, ite: 1900] train loss: 3.516783, tar: 0.497066 \n",
      "[epoch:   5/ 50, batch:  1184/ 7500, ite: 1950] train loss: 3.513253, tar: 0.496475 \n",
      "[epoch:   5/ 50, batch:  1984/ 7500, ite: 2000] train loss: 3.497421, tar: 0.494223 \n",
      "[epoch:   5/ 50, batch:  2784/ 7500, ite: 2050] train loss: 3.172858, tar: 0.445987 \n",
      "[epoch:   5/ 50, batch:  3584/ 7500, ite: 2100] train loss: 3.270680, tar: 0.460493 \n",
      "[epoch:   5/ 50, batch:  4384/ 7500, ite: 2150] train loss: 3.263451, tar: 0.459547 \n",
      "[epoch:   5/ 50, batch:  5184/ 7500, ite: 2200] train loss: 3.247786, tar: 0.457490 \n",
      "[epoch:   5/ 50, batch:  5984/ 7500, ite: 2250] train loss: 3.250928, tar: 0.457860 \n",
      "[epoch:   5/ 50, batch:  6784/ 7500, ite: 2300] train loss: 3.259288, tar: 0.459100 \n"
     ]
    },
    {
     "data": {
      "application/vnd.jupyter.widget-view+json": {
       "model_id": "5ac334ba26c745ab90cb7cb92f9092df",
       "version_major": 2,
       "version_minor": 0
      },
      "text/plain": [
       "  0%|          | 0/469 [00:00<?, ?it/s]"
      ]
     },
     "metadata": {},
     "output_type": "display_data"
    },
    {
     "name": "stdout",
     "output_type": "stream",
     "text": [
      "[epoch:   6/ 50, batch:    80/ 7500, ite: 2350] train loss: 3.243392, tar: 0.456888 \n",
      "[epoch:   6/ 50, batch:   880/ 7500, ite: 2400] train loss: 3.238004, tar: 0.456088 \n",
      "[epoch:   6/ 50, batch:  1680/ 7500, ite: 2450] train loss: 3.202812, tar: 0.451032 \n",
      "[epoch:   6/ 50, batch:  2480/ 7500, ite: 2500] train loss: 3.213718, tar: 0.452499 \n",
      "[epoch:   6/ 50, batch:  3280/ 7500, ite: 2550] train loss: 3.202870, tar: 0.450949 \n",
      "[epoch:   6/ 50, batch:  4080/ 7500, ite: 2600] train loss: 3.198771, tar: 0.450294 \n",
      "[epoch:   6/ 50, batch:  4880/ 7500, ite: 2650] train loss: 3.188063, tar: 0.448760 \n",
      "[epoch:   6/ 50, batch:  5680/ 7500, ite: 2700] train loss: 3.177848, tar: 0.447303 \n",
      "[epoch:   6/ 50, batch:  6480/ 7500, ite: 2750] train loss: 3.175698, tar: 0.447011 \n",
      "[epoch:   6/ 50, batch:  7280/ 7500, ite: 2800] train loss: 3.169060, tar: 0.446042 \n"
     ]
    },
    {
     "data": {
      "application/vnd.jupyter.widget-view+json": {
       "model_id": "626dca44996a4997b2b017660ecc5d8e",
       "version_major": 2,
       "version_minor": 0
      },
      "text/plain": [
       "  0%|          | 0/469 [00:00<?, ?it/s]"
      ]
     },
     "metadata": {},
     "output_type": "display_data"
    },
    {
     "name": "stdout",
     "output_type": "stream",
     "text": [
      "[epoch:   7/ 50, batch:   576/ 7500, ite: 2850] train loss: 3.165616, tar: 0.445442 \n",
      "[epoch:   7/ 50, batch:  1376/ 7500, ite: 2900] train loss: 3.162784, tar: 0.445090 \n",
      "[epoch:   7/ 50, batch:  2176/ 7500, ite: 2950] train loss: 3.150638, tar: 0.443403 \n",
      "[epoch:   7/ 50, batch:  2976/ 7500, ite: 3000] train loss: 3.140997, tar: 0.441988 \n",
      "[epoch:   7/ 50, batch:  3776/ 7500, ite: 3050] train loss: 2.940605, tar: 0.412627 \n",
      "[epoch:   7/ 50, batch:  4576/ 7500, ite: 3100] train loss: 2.923286, tar: 0.410147 \n",
      "[epoch:   7/ 50, batch:  5376/ 7500, ite: 3150] train loss: 2.914421, tar: 0.409108 \n",
      "[epoch:   7/ 50, batch:  6176/ 7500, ite: 3200] train loss: 2.956763, tar: 0.415157 \n",
      "[epoch:   7/ 50, batch:  6976/ 7500, ite: 3250] train loss: 2.947381, tar: 0.413861 \n"
     ]
    },
    {
     "data": {
      "application/vnd.jupyter.widget-view+json": {
       "model_id": "806b79535a964ce28bd3f1a562e96039",
       "version_major": 2,
       "version_minor": 0
      },
      "text/plain": [
       "  0%|          | 0/469 [00:00<?, ?it/s]"
      ]
     },
     "metadata": {},
     "output_type": "display_data"
    },
    {
     "name": "stdout",
     "output_type": "stream",
     "text": [
      "[epoch:   8/ 50, batch:   272/ 7500, ite: 3300] train loss: 2.942151, tar: 0.413140 \n",
      "[epoch:   8/ 50, batch:  1072/ 7500, ite: 3350] train loss: 2.929896, tar: 0.411591 \n",
      "[epoch:   8/ 50, batch:  1872/ 7500, ite: 3400] train loss: 2.930523, tar: 0.411800 \n",
      "[epoch:   8/ 50, batch:  2672/ 7500, ite: 3450] train loss: 2.927421, tar: 0.411411 \n",
      "[epoch:   8/ 50, batch:  3472/ 7500, ite: 3500] train loss: 2.920469, tar: 0.410390 \n",
      "[epoch:   8/ 50, batch:  4272/ 7500, ite: 3550] train loss: 2.922395, tar: 0.410718 \n",
      "[epoch:   8/ 50, batch:  5072/ 7500, ite: 3600] train loss: 2.924162, tar: 0.411080 \n",
      "[epoch:   8/ 50, batch:  5872/ 7500, ite: 3650] train loss: 2.912247, tar: 0.409450 \n",
      "[epoch:   8/ 50, batch:  6672/ 7500, ite: 3700] train loss: 2.903571, tar: 0.408241 \n",
      "[epoch:   8/ 50, batch:  7472/ 7500, ite: 3750] train loss: 2.902932, tar: 0.408126 \n"
     ]
    },
    {
     "data": {
      "application/vnd.jupyter.widget-view+json": {
       "model_id": "3d1a7f4e86134554953375172e94f26e",
       "version_major": 2,
       "version_minor": 0
      },
      "text/plain": [
       "  0%|          | 0/469 [00:00<?, ?it/s]"
      ]
     },
     "metadata": {},
     "output_type": "display_data"
    },
    {
     "name": "stdout",
     "output_type": "stream",
     "text": [
      "[epoch:   9/ 50, batch:   768/ 7500, ite: 3800] train loss: 2.898720, tar: 0.407465 \n",
      "[epoch:   9/ 50, batch:  1568/ 7500, ite: 3850] train loss: 2.888449, tar: 0.405932 \n",
      "[epoch:   9/ 50, batch:  2368/ 7500, ite: 3900] train loss: 2.882076, tar: 0.405037 \n",
      "[epoch:   9/ 50, batch:  3168/ 7500, ite: 3950] train loss: 2.878259, tar: 0.404524 \n",
      "[epoch:   9/ 50, batch:  3968/ 7500, ite: 4000] train loss: 2.880650, tar: 0.404842 \n",
      "[epoch:   9/ 50, batch:  4768/ 7500, ite: 4050] train loss: 2.830343, tar: 0.398350 \n",
      "[epoch:   9/ 50, batch:  5568/ 7500, ite: 4100] train loss: 2.729335, tar: 0.383891 \n",
      "[epoch:   9/ 50, batch:  6368/ 7500, ite: 4150] train loss: 2.757258, tar: 0.387829 \n",
      "[epoch:   9/ 50, batch:  7168/ 7500, ite: 4200] train loss: 2.788131, tar: 0.391797 \n"
     ]
    },
    {
     "data": {
      "application/vnd.jupyter.widget-view+json": {
       "model_id": "6a446d0bf57c4a3bb02fcbdd7d8d2473",
       "version_major": 2,
       "version_minor": 0
      },
      "text/plain": [
       "  0%|          | 0/469 [00:00<?, ?it/s]"
      ]
     },
     "metadata": {},
     "output_type": "display_data"
    },
    {
     "name": "stdout",
     "output_type": "stream",
     "text": [
      "[epoch:  10/ 50, batch:   464/ 7500, ite: 4250] train loss: 2.763783, tar: 0.388229 \n",
      "[epoch:  10/ 50, batch:  1264/ 7500, ite: 4300] train loss: 2.774545, tar: 0.389784 \n",
      "[epoch:  10/ 50, batch:  2064/ 7500, ite: 4350] train loss: 2.774067, tar: 0.389677 \n",
      "[epoch:  10/ 50, batch:  2864/ 7500, ite: 4400] train loss: 2.761192, tar: 0.387926 \n",
      "[epoch:  10/ 50, batch:  3664/ 7500, ite: 4450] train loss: 2.754029, tar: 0.386942 \n",
      "[epoch:  10/ 50, batch:  4464/ 7500, ite: 4500] train loss: 2.739639, tar: 0.384996 \n",
      "[epoch:  10/ 50, batch:  5264/ 7500, ite: 4550] train loss: 2.734993, tar: 0.384377 \n",
      "[epoch:  10/ 50, batch:  6064/ 7500, ite: 4600] train loss: 2.739932, tar: 0.385029 \n",
      "[epoch:  10/ 50, batch:  6864/ 7500, ite: 4650] train loss: 2.738874, tar: 0.384929 \n"
     ]
    },
    {
     "data": {
      "application/vnd.jupyter.widget-view+json": {
       "model_id": "a38815663e9046f6a4d9ae24a39dd31d",
       "version_major": 2,
       "version_minor": 0
      },
      "text/plain": [
       "  0%|          | 0/469 [00:00<?, ?it/s]"
      ]
     },
     "metadata": {},
     "output_type": "display_data"
    },
    {
     "name": "stdout",
     "output_type": "stream",
     "text": [
      "[epoch:  11/ 50, batch:   160/ 7500, ite: 4700] train loss: 2.729349, tar: 0.383580 \n",
      "[epoch:  11/ 50, batch:   960/ 7500, ite: 4750] train loss: 2.736778, tar: 0.384562 \n",
      "[epoch:  11/ 50, batch:  1760/ 7500, ite: 4800] train loss: 2.731080, tar: 0.383864 \n",
      "[epoch:  11/ 50, batch:  2560/ 7500, ite: 4850] train loss: 2.723454, tar: 0.382735 \n",
      "[epoch:  11/ 50, batch:  3360/ 7500, ite: 4900] train loss: 2.720519, tar: 0.382360 \n",
      "[epoch:  11/ 50, batch:  4160/ 7500, ite: 4950] train loss: 2.712261, tar: 0.381215 \n",
      "[epoch:  11/ 50, batch:  4960/ 7500, ite: 5000] train loss: 2.715347, tar: 0.381688 \n",
      "[epoch:  11/ 50, batch:  5760/ 7500, ite: 5050] train loss: 2.559374, tar: 0.360088 \n",
      "[epoch:  11/ 50, batch:  6560/ 7500, ite: 5100] train loss: 2.615076, tar: 0.367502 \n",
      "[epoch:  11/ 50, batch:  7360/ 7500, ite: 5150] train loss: 2.668017, tar: 0.374845 \n"
     ]
    },
    {
     "data": {
      "application/vnd.jupyter.widget-view+json": {
       "model_id": "3eca2a5ffcd244e78675bb61f009a4b3",
       "version_major": 2,
       "version_minor": 0
      },
      "text/plain": [
       "  0%|          | 0/469 [00:00<?, ?it/s]"
      ]
     },
     "metadata": {},
     "output_type": "display_data"
    },
    {
     "name": "stdout",
     "output_type": "stream",
     "text": [
      "[epoch:  12/ 50, batch:   656/ 7500, ite: 5200] train loss: 2.676133, tar: 0.375768 \n",
      "[epoch:  12/ 50, batch:  1456/ 7500, ite: 5250] train loss: 2.673510, tar: 0.375425 \n",
      "[epoch:  12/ 50, batch:  2256/ 7500, ite: 5300] train loss: 2.654993, tar: 0.372899 \n",
      "[epoch:  12/ 50, batch:  3056/ 7500, ite: 5350] train loss: 2.644209, tar: 0.371409 \n",
      "[epoch:  12/ 50, batch:  3856/ 7500, ite: 5400] train loss: 2.627527, tar: 0.369089 \n",
      "[epoch:  12/ 50, batch:  4656/ 7500, ite: 5450] train loss: 2.656055, tar: 0.373229 \n",
      "[epoch:  12/ 50, batch:  5456/ 7500, ite: 5500] train loss: 2.639995, tar: 0.370946 \n",
      "[epoch:  12/ 50, batch:  6256/ 7500, ite: 5550] train loss: 2.632060, tar: 0.369793 \n",
      "[epoch:  12/ 50, batch:  7056/ 7500, ite: 5600] train loss: 2.623713, tar: 0.368584 \n"
     ]
    },
    {
     "data": {
      "application/vnd.jupyter.widget-view+json": {
       "model_id": "44f6406bfb6246a89f59adf58402c201",
       "version_major": 2,
       "version_minor": 0
      },
      "text/plain": [
       "  0%|          | 0/469 [00:00<?, ?it/s]"
      ]
     },
     "metadata": {},
     "output_type": "display_data"
    },
    {
     "name": "stdout",
     "output_type": "stream",
     "text": [
      "[epoch:  13/ 50, batch:   352/ 7500, ite: 5650] train loss: 2.619318, tar: 0.367946 \n",
      "[epoch:  13/ 50, batch:  1152/ 7500, ite: 5700] train loss: 2.612511, tar: 0.366982 \n",
      "[epoch:  13/ 50, batch:  1952/ 7500, ite: 5750] train loss: 2.611720, tar: 0.366884 \n",
      "[epoch:  13/ 50, batch:  2752/ 7500, ite: 5800] train loss: 2.602288, tar: 0.365549 \n",
      "[epoch:  13/ 50, batch:  3552/ 7500, ite: 5850] train loss: 2.602149, tar: 0.365535 \n",
      "[epoch:  13/ 50, batch:  4352/ 7500, ite: 5900] train loss: 2.603310, tar: 0.365722 \n",
      "[epoch:  13/ 50, batch:  5152/ 7500, ite: 5950] train loss: 2.599429, tar: 0.365137 \n",
      "[epoch:  13/ 50, batch:  5952/ 7500, ite: 6000] train loss: 2.602593, tar: 0.365563 \n",
      "[epoch:  13/ 50, batch:  6752/ 7500, ite: 6050] train loss: 2.583427, tar: 0.363434 \n"
     ]
    },
    {
     "data": {
      "application/vnd.jupyter.widget-view+json": {
       "model_id": "dca3726d52c74deda74047714feb6ea0",
       "version_major": 2,
       "version_minor": 0
      },
      "text/plain": [
       "  0%|          | 0/469 [00:00<?, ?it/s]"
      ]
     },
     "metadata": {},
     "output_type": "display_data"
    },
    {
     "name": "stdout",
     "output_type": "stream",
     "text": [
      "[epoch:  14/ 50, batch:    48/ 7500, ite: 6100] train loss: 2.552555, tar: 0.359292 \n",
      "[epoch:  14/ 50, batch:   848/ 7500, ite: 6150] train loss: 2.523412, tar: 0.354829 \n",
      "[epoch:  14/ 50, batch:  1648/ 7500, ite: 6200] train loss: 2.520052, tar: 0.354701 \n",
      "[epoch:  14/ 50, batch:  2448/ 7500, ite: 6250] train loss: 2.498557, tar: 0.351483 \n",
      "[epoch:  14/ 50, batch:  3248/ 7500, ite: 6300] train loss: 2.501916, tar: 0.351918 \n",
      "[epoch:  14/ 50, batch:  4048/ 7500, ite: 6350] train loss: 2.488774, tar: 0.349748 \n",
      "[epoch:  14/ 50, batch:  4848/ 7500, ite: 6400] train loss: 2.478604, tar: 0.348198 \n",
      "[epoch:  14/ 50, batch:  5648/ 7500, ite: 6450] train loss: 2.459915, tar: 0.345336 \n",
      "[epoch:  14/ 50, batch:  6448/ 7500, ite: 6500] train loss: 2.459949, tar: 0.345279 \n",
      "[epoch:  14/ 50, batch:  7248/ 7500, ite: 6550] train loss: 2.473872, tar: 0.347228 \n"
     ]
    },
    {
     "data": {
      "application/vnd.jupyter.widget-view+json": {
       "model_id": "dfa532120d2b44fe99e45af9fed6fb69",
       "version_major": 2,
       "version_minor": 0
      },
      "text/plain": [
       "  0%|          | 0/469 [00:00<?, ?it/s]"
      ]
     },
     "metadata": {},
     "output_type": "display_data"
    },
    {
     "name": "stdout",
     "output_type": "stream",
     "text": [
      "[epoch:  15/ 50, batch:   544/ 7500, ite: 6600] train loss: 2.475857, tar: 0.347485 \n",
      "[epoch:  15/ 50, batch:  1344/ 7500, ite: 6650] train loss: 2.470559, tar: 0.346648 \n",
      "[epoch:  15/ 50, batch:  2144/ 7500, ite: 6700] train loss: 2.466412, tar: 0.346011 \n",
      "[epoch:  15/ 50, batch:  2944/ 7500, ite: 6750] train loss: 2.463338, tar: 0.345538 \n",
      "[epoch:  15/ 50, batch:  3744/ 7500, ite: 6800] train loss: 2.472042, tar: 0.346790 \n",
      "[epoch:  15/ 50, batch:  4544/ 7500, ite: 6850] train loss: 2.456756, tar: 0.344548 \n",
      "[epoch:  15/ 50, batch:  5344/ 7500, ite: 6900] train loss: 2.454727, tar: 0.344244 \n",
      "[epoch:  15/ 50, batch:  6144/ 7500, ite: 6950] train loss: 2.452551, tar: 0.343963 \n",
      "[epoch:  15/ 50, batch:  6944/ 7500, ite: 7000] train loss: 2.455525, tar: 0.344322 \n"
     ]
    },
    {
     "data": {
      "application/vnd.jupyter.widget-view+json": {
       "model_id": "1baa8ef2d00a4a83b8600dc76ab094f9",
       "version_major": 2,
       "version_minor": 0
      },
      "text/plain": [
       "  0%|          | 0/469 [00:00<?, ?it/s]"
      ]
     },
     "metadata": {},
     "output_type": "display_data"
    },
    {
     "name": "stdout",
     "output_type": "stream",
     "text": [
      "[epoch:  16/ 50, batch:   240/ 7500, ite: 7050] train loss: 2.439114, tar: 0.341850 \n",
      "[epoch:  16/ 50, batch:  1040/ 7500, ite: 7100] train loss: 2.438722, tar: 0.341449 \n",
      "[epoch:  16/ 50, batch:  1840/ 7500, ite: 7150] train loss: 2.372619, tar: 0.332368 \n",
      "[epoch:  16/ 50, batch:  2640/ 7500, ite: 7200] train loss: 2.385392, tar: 0.334064 \n",
      "[epoch:  16/ 50, batch:  3440/ 7500, ite: 7250] train loss: 2.422335, tar: 0.339215 \n",
      "[epoch:  16/ 50, batch:  4240/ 7500, ite: 7300] train loss: 2.414064, tar: 0.338169 \n",
      "[epoch:  16/ 50, batch:  5040/ 7500, ite: 7350] train loss: 2.404101, tar: 0.336780 \n",
      "[epoch:  16/ 50, batch:  5840/ 7500, ite: 7400] train loss: 2.410596, tar: 0.337812 \n",
      "[epoch:  16/ 50, batch:  6640/ 7500, ite: 7450] train loss: 2.389812, tar: 0.334846 \n",
      "[epoch:  16/ 50, batch:  7440/ 7500, ite: 7500] train loss: 2.387500, tar: 0.334499 \n"
     ]
    },
    {
     "data": {
      "application/vnd.jupyter.widget-view+json": {
       "model_id": "9126fadc7a194692aeebbdec57465a18",
       "version_major": 2,
       "version_minor": 0
      },
      "text/plain": [
       "  0%|          | 0/469 [00:00<?, ?it/s]"
      ]
     },
     "metadata": {},
     "output_type": "display_data"
    },
    {
     "name": "stdout",
     "output_type": "stream",
     "text": [
      "[epoch:  17/ 50, batch:   736/ 7500, ite: 7550] train loss: 2.380666, tar: 0.333607 \n",
      "[epoch:  17/ 50, batch:  1536/ 7500, ite: 7600] train loss: 2.368085, tar: 0.331856 \n",
      "[epoch:  17/ 50, batch:  2336/ 7500, ite: 7650] train loss: 2.365660, tar: 0.331479 \n",
      "[epoch:  17/ 50, batch:  3136/ 7500, ite: 7700] train loss: 2.368131, tar: 0.331859 \n",
      "[epoch:  17/ 50, batch:  3936/ 7500, ite: 7750] train loss: 2.362494, tar: 0.331094 \n",
      "[epoch:  17/ 50, batch:  4736/ 7500, ite: 7800] train loss: 2.366727, tar: 0.331727 \n",
      "[epoch:  17/ 50, batch:  5536/ 7500, ite: 7850] train loss: 2.364009, tar: 0.331339 \n",
      "[epoch:  17/ 50, batch:  6336/ 7500, ite: 7900] train loss: 2.355269, tar: 0.330013 \n",
      "[epoch:  17/ 50, batch:  7136/ 7500, ite: 7950] train loss: 2.362333, tar: 0.331027 \n"
     ]
    },
    {
     "data": {
      "application/vnd.jupyter.widget-view+json": {
       "model_id": "98fb78f325304cd0b9cabfa89cd858fc",
       "version_major": 2,
       "version_minor": 0
      },
      "text/plain": [
       "  0%|          | 0/469 [00:00<?, ?it/s]"
      ]
     },
     "metadata": {},
     "output_type": "display_data"
    },
    {
     "name": "stdout",
     "output_type": "stream",
     "text": [
      "[epoch:  18/ 50, batch:   432/ 7500, ite: 8000] train loss: 2.357673, tar: 0.330342 \n",
      "[epoch:  18/ 50, batch:  1232/ 7500, ite: 8050] train loss: 2.310621, tar: 0.323136 \n",
      "[epoch:  18/ 50, batch:  2032/ 7500, ite: 8100] train loss: 2.212259, tar: 0.309150 \n",
      "[epoch:  18/ 50, batch:  2832/ 7500, ite: 8150] train loss: 2.187101, tar: 0.305258 \n",
      "[epoch:  18/ 50, batch:  3632/ 7500, ite: 8200] train loss: 2.189630, tar: 0.305749 \n",
      "[epoch:  18/ 50, batch:  4432/ 7500, ite: 8250] train loss: 2.203762, tar: 0.307908 \n",
      "[epoch:  18/ 50, batch:  5232/ 7500, ite: 8300] train loss: 2.243958, tar: 0.313441 \n",
      "[epoch:  18/ 50, batch:  6032/ 7500, ite: 8350] train loss: 2.245124, tar: 0.313669 \n",
      "[epoch:  18/ 50, batch:  6832/ 7500, ite: 8400] train loss: 2.256237, tar: 0.315334 \n"
     ]
    },
    {
     "data": {
      "application/vnd.jupyter.widget-view+json": {
       "model_id": "5ae4d540119845f1852b252076868b2b",
       "version_major": 2,
       "version_minor": 0
      },
      "text/plain": [
       "  0%|          | 0/469 [00:00<?, ?it/s]"
      ]
     },
     "metadata": {},
     "output_type": "display_data"
    },
    {
     "name": "stdout",
     "output_type": "stream",
     "text": [
      "[epoch:  19/ 50, batch:   128/ 7500, ite: 8450] train loss: 2.266937, tar: 0.316901 \n",
      "[epoch:  19/ 50, batch:   928/ 7500, ite: 8500] train loss: 2.264390, tar: 0.316483 \n",
      "[epoch:  19/ 50, batch:  1728/ 7500, ite: 8550] train loss: 2.259201, tar: 0.315741 \n",
      "[epoch:  19/ 50, batch:  2528/ 7500, ite: 8600] train loss: 2.268457, tar: 0.317054 \n",
      "[epoch:  19/ 50, batch:  3328/ 7500, ite: 8650] train loss: 2.269150, tar: 0.317132 \n",
      "[epoch:  19/ 50, batch:  4128/ 7500, ite: 8700] train loss: 2.275286, tar: 0.318081 \n",
      "[epoch:  19/ 50, batch:  4928/ 7500, ite: 8750] train loss: 2.265858, tar: 0.316747 \n",
      "[epoch:  19/ 50, batch:  5728/ 7500, ite: 8800] train loss: 2.269050, tar: 0.317202 \n",
      "[epoch:  19/ 50, batch:  6528/ 7500, ite: 8850] train loss: 2.268432, tar: 0.317084 \n",
      "[epoch:  19/ 50, batch:  7328/ 7500, ite: 8900] train loss: 2.265408, tar: 0.316668 \n"
     ]
    },
    {
     "data": {
      "application/vnd.jupyter.widget-view+json": {
       "model_id": "c4e3544f86be48d2a6a7e7f6e4d53631",
       "version_major": 2,
       "version_minor": 0
      },
      "text/plain": [
       "  0%|          | 0/469 [00:00<?, ?it/s]"
      ]
     },
     "metadata": {},
     "output_type": "display_data"
    },
    {
     "name": "stdout",
     "output_type": "stream",
     "text": [
      "[epoch:  20/ 50, batch:   624/ 7500, ite: 8950] train loss: 2.261897, tar: 0.316159 \n",
      "[epoch:  20/ 50, batch:  1424/ 7500, ite: 9000] train loss: 2.256964, tar: 0.315464 \n",
      "[epoch:  20/ 50, batch:  2224/ 7500, ite: 9050] train loss: 2.105521, tar: 0.293657 \n",
      "[epoch:  20/ 50, batch:  3024/ 7500, ite: 9100] train loss: 2.059443, tar: 0.287299 \n",
      "[epoch:  20/ 50, batch:  3824/ 7500, ite: 9150] train loss: 2.093972, tar: 0.292314 \n",
      "[epoch:  20/ 50, batch:  4624/ 7500, ite: 9200] train loss: 2.154614, tar: 0.301072 \n",
      "[epoch:  20/ 50, batch:  5424/ 7500, ite: 9250] train loss: 2.161840, tar: 0.301949 \n",
      "[epoch:  20/ 50, batch:  6224/ 7500, ite: 9300] train loss: 2.163005, tar: 0.302121 \n",
      "[epoch:  20/ 50, batch:  7024/ 7500, ite: 9350] train loss: 2.171328, tar: 0.303412 \n"
     ]
    },
    {
     "data": {
      "application/vnd.jupyter.widget-view+json": {
       "model_id": "22dd0896ee474953ab462577497efd65",
       "version_major": 2,
       "version_minor": 0
      },
      "text/plain": [
       "  0%|          | 0/469 [00:00<?, ?it/s]"
      ]
     },
     "metadata": {},
     "output_type": "display_data"
    },
    {
     "name": "stdout",
     "output_type": "stream",
     "text": [
      "[epoch:  21/ 50, batch:   320/ 7500, ite: 9400] train loss: 2.173970, tar: 0.303775 \n",
      "[epoch:  21/ 50, batch:  1120/ 7500, ite: 9450] train loss: 2.170517, tar: 0.303131 \n",
      "[epoch:  21/ 50, batch:  1920/ 7500, ite: 9500] train loss: 2.177756, tar: 0.304063 \n",
      "[epoch:  21/ 50, batch:  2720/ 7500, ite: 9550] train loss: 2.168474, tar: 0.302765 \n",
      "[epoch:  21/ 50, batch:  3520/ 7500, ite: 9600] train loss: 2.173319, tar: 0.303697 \n",
      "[epoch:  21/ 50, batch:  4320/ 7500, ite: 9650] train loss: 2.175367, tar: 0.303936 \n",
      "[epoch:  21/ 50, batch:  5120/ 7500, ite: 9700] train loss: 2.173449, tar: 0.303619 \n",
      "[epoch:  21/ 50, batch:  5920/ 7500, ite: 9750] train loss: 2.171298, tar: 0.303295 \n",
      "[epoch:  21/ 50, batch:  6720/ 7500, ite: 9800] train loss: 2.172315, tar: 0.303428 \n"
     ]
    },
    {
     "data": {
      "application/vnd.jupyter.widget-view+json": {
       "model_id": "aad437666b7c4c2a99f32778468185cf",
       "version_major": 2,
       "version_minor": 0
      },
      "text/plain": [
       "  0%|          | 0/469 [00:00<?, ?it/s]"
      ]
     },
     "metadata": {},
     "output_type": "display_data"
    },
    {
     "name": "stdout",
     "output_type": "stream",
     "text": [
      "[epoch:  22/ 50, batch:    16/ 7500, ite: 9850] train loss: 2.175643, tar: 0.303887 \n",
      "[epoch:  22/ 50, batch:   816/ 7500, ite: 9900] train loss: 2.173819, tar: 0.303565 \n",
      "[epoch:  22/ 50, batch:  1616/ 7500, ite: 9950] train loss: 2.172515, tar: 0.303284 \n",
      "[epoch:  22/ 50, batch:  2416/ 7500, ite: 10000] train loss: 2.161453, tar: 0.301635 \n",
      "[epoch:  22/ 50, batch:  3216/ 7500, ite: 10050] train loss: 2.114432, tar: 0.294003 \n",
      "[epoch:  22/ 50, batch:  4016/ 7500, ite: 10100] train loss: 2.149125, tar: 0.299151 \n",
      "[epoch:  22/ 50, batch:  4816/ 7500, ite: 10150] train loss: 2.175026, tar: 0.302350 \n",
      "[epoch:  22/ 50, batch:  5616/ 7500, ite: 10200] train loss: 2.162391, tar: 0.300633 \n",
      "[epoch:  22/ 50, batch:  6416/ 7500, ite: 10250] train loss: 2.157739, tar: 0.300058 \n",
      "[epoch:  22/ 50, batch:  7216/ 7500, ite: 10300] train loss: 2.169372, tar: 0.301850 \n"
     ]
    },
    {
     "data": {
      "application/vnd.jupyter.widget-view+json": {
       "model_id": "632c4e01fa224ec6be156d430926e13e",
       "version_major": 2,
       "version_minor": 0
      },
      "text/plain": [
       "  0%|          | 0/469 [00:00<?, ?it/s]"
      ]
     },
     "metadata": {},
     "output_type": "display_data"
    },
    {
     "name": "stdout",
     "output_type": "stream",
     "text": [
      "[epoch:  23/ 50, batch:   512/ 7500, ite: 10350] train loss: 2.147849, tar: 0.298776 \n",
      "[epoch:  23/ 50, batch:  1312/ 7500, ite: 10400] train loss: 2.140994, tar: 0.297825 \n",
      "[epoch:  23/ 50, batch:  2112/ 7500, ite: 10450] train loss: 2.147971, tar: 0.298918 \n",
      "[epoch:  23/ 50, batch:  2912/ 7500, ite: 10500] train loss: 2.137886, tar: 0.297406 \n",
      "[epoch:  23/ 50, batch:  3712/ 7500, ite: 10550] train loss: 2.141381, tar: 0.298018 \n",
      "[epoch:  23/ 50, batch:  4512/ 7500, ite: 10600] train loss: 2.136599, tar: 0.297365 \n",
      "[epoch:  23/ 50, batch:  5312/ 7500, ite: 10650] train loss: 2.136325, tar: 0.297272 \n",
      "[epoch:  23/ 50, batch:  6112/ 7500, ite: 10700] train loss: 2.137916, tar: 0.297542 \n",
      "[epoch:  23/ 50, batch:  6912/ 7500, ite: 10750] train loss: 2.137923, tar: 0.297560 \n"
     ]
    },
    {
     "data": {
      "application/vnd.jupyter.widget-view+json": {
       "model_id": "b84e2243aa1b4afe8c92bdc499793a85",
       "version_major": 2,
       "version_minor": 0
      },
      "text/plain": [
       "  0%|          | 0/469 [00:00<?, ?it/s]"
      ]
     },
     "metadata": {},
     "output_type": "display_data"
    },
    {
     "name": "stdout",
     "output_type": "stream",
     "text": [
      "[epoch:  24/ 50, batch:   208/ 7500, ite: 10800] train loss: 2.133887, tar: 0.296923 \n",
      "[epoch:  24/ 50, batch:  1008/ 7500, ite: 10850] train loss: 2.120594, tar: 0.294994 \n",
      "[epoch:  24/ 50, batch:  1808/ 7500, ite: 10900] train loss: 2.120239, tar: 0.294882 \n",
      "[epoch:  24/ 50, batch:  2608/ 7500, ite: 10950] train loss: 2.109591, tar: 0.293376 \n",
      "[epoch:  24/ 50, batch:  3408/ 7500, ite: 11000] train loss: 2.107132, tar: 0.293022 \n",
      "[epoch:  24/ 50, batch:  4208/ 7500, ite: 11050] train loss: 2.091357, tar: 0.292215 \n",
      "[epoch:  24/ 50, batch:  5008/ 7500, ite: 11100] train loss: 2.078491, tar: 0.290366 \n",
      "[epoch:  24/ 50, batch:  5808/ 7500, ite: 11150] train loss: 2.120676, tar: 0.295898 \n",
      "[epoch:  24/ 50, batch:  6608/ 7500, ite: 11200] train loss: 2.139706, tar: 0.298645 \n",
      "[epoch:  24/ 50, batch:  7408/ 7500, ite: 11250] train loss: 2.118745, tar: 0.295383 \n"
     ]
    },
    {
     "data": {
      "application/vnd.jupyter.widget-view+json": {
       "model_id": "9f7bf432f2a44f4fbab6ce048c72cd10",
       "version_major": 2,
       "version_minor": 0
      },
      "text/plain": [
       "  0%|          | 0/469 [00:00<?, ?it/s]"
      ]
     },
     "metadata": {},
     "output_type": "display_data"
    },
    {
     "name": "stdout",
     "output_type": "stream",
     "text": [
      "[epoch:  25/ 50, batch:   704/ 7500, ite: 11300] train loss: 2.092733, tar: 0.291530 \n",
      "[epoch:  25/ 50, batch:  1504/ 7500, ite: 11350] train loss: 2.084748, tar: 0.290168 \n",
      "[epoch:  25/ 50, batch:  2304/ 7500, ite: 11400] train loss: 2.063575, tar: 0.286983 \n",
      "[epoch:  25/ 50, batch:  3104/ 7500, ite: 11450] train loss: 2.039789, tar: 0.283489 \n",
      "[epoch:  25/ 50, batch:  3904/ 7500, ite: 11500] train loss: 2.034651, tar: 0.282831 \n",
      "[epoch:  25/ 50, batch:  4704/ 7500, ite: 11550] train loss: 2.038552, tar: 0.283438 \n",
      "[epoch:  25/ 50, batch:  5504/ 7500, ite: 11600] train loss: 2.042904, tar: 0.284000 \n",
      "[epoch:  25/ 50, batch:  6304/ 7500, ite: 11650] train loss: 2.047725, tar: 0.284730 \n",
      "[epoch:  25/ 50, batch:  7104/ 7500, ite: 11700] train loss: 2.059369, tar: 0.286460 \n"
     ]
    },
    {
     "data": {
      "application/vnd.jupyter.widget-view+json": {
       "model_id": "b4d506195b6243dfa40b0cecf5696cc4",
       "version_major": 2,
       "version_minor": 0
      },
      "text/plain": [
       "  0%|          | 0/469 [00:00<?, ?it/s]"
      ]
     },
     "metadata": {},
     "output_type": "display_data"
    },
    {
     "name": "stdout",
     "output_type": "stream",
     "text": [
      "[epoch:  26/ 50, batch:   400/ 7500, ite: 11750] train loss: 2.051941, tar: 0.285468 \n",
      "[epoch:  26/ 50, batch:  1200/ 7500, ite: 11800] train loss: 2.048260, tar: 0.284898 \n",
      "[epoch:  26/ 50, batch:  2000/ 7500, ite: 11850] train loss: 2.049927, tar: 0.285067 \n",
      "[epoch:  26/ 50, batch:  2800/ 7500, ite: 11900] train loss: 2.046843, tar: 0.284562 \n",
      "[epoch:  26/ 50, batch:  3600/ 7500, ite: 11950] train loss: 2.047016, tar: 0.284547 \n",
      "[epoch:  26/ 50, batch:  4400/ 7500, ite: 12000] train loss: 2.051164, tar: 0.284970 \n",
      "[epoch:  26/ 50, batch:  5200/ 7500, ite: 12050] train loss: 2.062339, tar: 0.286395 \n",
      "[epoch:  26/ 50, batch:  6000/ 7500, ite: 12100] train loss: 1.930592, tar: 0.266858 \n",
      "[epoch:  26/ 50, batch:  6800/ 7500, ite: 12150] train loss: 1.923235, tar: 0.265951 \n"
     ]
    },
    {
     "data": {
      "application/vnd.jupyter.widget-view+json": {
       "model_id": "29f73f45887d494a9b769177ff1a0265",
       "version_major": 2,
       "version_minor": 0
      },
      "text/plain": [
       "  0%|          | 0/469 [00:00<?, ?it/s]"
      ]
     },
     "metadata": {},
     "output_type": "display_data"
    },
    {
     "name": "stdout",
     "output_type": "stream",
     "text": [
      "[epoch:  27/ 50, batch:    96/ 7500, ite: 12200] train loss: 1.960677, tar: 0.271454 \n",
      "[epoch:  27/ 50, batch:   896/ 7500, ite: 12250] train loss: 1.947941, tar: 0.269859 \n",
      "[epoch:  27/ 50, batch:  1696/ 7500, ite: 12300] train loss: 1.940955, tar: 0.268687 \n",
      "[epoch:  27/ 50, batch:  2496/ 7500, ite: 12350] train loss: 1.952947, tar: 0.270394 \n",
      "[epoch:  27/ 50, batch:  3296/ 7500, ite: 12400] train loss: 1.966133, tar: 0.272329 \n",
      "[epoch:  27/ 50, batch:  4096/ 7500, ite: 12450] train loss: 1.955705, tar: 0.270787 \n",
      "[epoch:  27/ 50, batch:  4896/ 7500, ite: 12500] train loss: 1.951964, tar: 0.270294 \n",
      "[epoch:  27/ 50, batch:  5696/ 7500, ite: 12550] train loss: 1.942364, tar: 0.268818 \n",
      "[epoch:  27/ 50, batch:  6496/ 7500, ite: 12600] train loss: 1.953669, tar: 0.270606 \n",
      "[epoch:  27/ 50, batch:  7296/ 7500, ite: 12650] train loss: 1.960844, tar: 0.271645 \n"
     ]
    },
    {
     "data": {
      "application/vnd.jupyter.widget-view+json": {
       "model_id": "8b5ad5703b9b46e485e05e059da2ecf9",
       "version_major": 2,
       "version_minor": 0
      },
      "text/plain": [
       "  0%|          | 0/469 [00:00<?, ?it/s]"
      ]
     },
     "metadata": {},
     "output_type": "display_data"
    },
    {
     "name": "stdout",
     "output_type": "stream",
     "text": [
      "[epoch:  28/ 50, batch:   592/ 7500, ite: 12700] train loss: 1.962228, tar: 0.271934 \n",
      "[epoch:  28/ 50, batch:  1392/ 7500, ite: 12750] train loss: 1.958432, tar: 0.271299 \n",
      "[epoch:  28/ 50, batch:  2192/ 7500, ite: 12800] train loss: 1.953675, tar: 0.270626 \n",
      "[epoch:  28/ 50, batch:  2992/ 7500, ite: 12850] train loss: 1.962903, tar: 0.272085 \n",
      "[epoch:  28/ 50, batch:  3792/ 7500, ite: 12900] train loss: 1.964027, tar: 0.272244 \n",
      "[epoch:  28/ 50, batch:  4592/ 7500, ite: 12950] train loss: 1.965113, tar: 0.272310 \n",
      "[epoch:  28/ 50, batch:  5392/ 7500, ite: 13000] train loss: 1.957236, tar: 0.271083 \n",
      "[epoch:  28/ 50, batch:  6192/ 7500, ite: 13050] train loss: 1.833712, tar: 0.252700 \n",
      "[epoch:  28/ 50, batch:  6992/ 7500, ite: 13100] train loss: 1.882007, tar: 0.259157 \n"
     ]
    },
    {
     "data": {
      "application/vnd.jupyter.widget-view+json": {
       "model_id": "5e34405ab4d5404ea03bae4f78254ad7",
       "version_major": 2,
       "version_minor": 0
      },
      "text/plain": [
       "  0%|          | 0/469 [00:00<?, ?it/s]"
      ]
     },
     "metadata": {},
     "output_type": "display_data"
    },
    {
     "name": "stdout",
     "output_type": "stream",
     "text": [
      "[epoch:  29/ 50, batch:   288/ 7500, ite: 13150] train loss: 1.919825, tar: 0.264877 \n",
      "[epoch:  29/ 50, batch:  1088/ 7500, ite: 13200] train loss: 1.873203, tar: 0.258376 \n",
      "[epoch:  29/ 50, batch:  1888/ 7500, ite: 13250] train loss: 1.859974, tar: 0.256342 \n",
      "[epoch:  29/ 50, batch:  2688/ 7500, ite: 13300] train loss: 1.853744, tar: 0.255550 \n",
      "[epoch:  29/ 50, batch:  3488/ 7500, ite: 13350] train loss: 1.847469, tar: 0.254683 \n",
      "[epoch:  29/ 50, batch:  4288/ 7500, ite: 13400] train loss: 1.871764, tar: 0.258293 \n",
      "[epoch:  29/ 50, batch:  5088/ 7500, ite: 13450] train loss: 1.886726, tar: 0.260425 \n",
      "[epoch:  29/ 50, batch:  5888/ 7500, ite: 13500] train loss: 1.898292, tar: 0.261951 \n",
      "[epoch:  29/ 50, batch:  6688/ 7500, ite: 13550] train loss: 1.894429, tar: 0.261419 \n",
      "[epoch:  29/ 50, batch:  7488/ 7500, ite: 13600] train loss: 1.885548, tar: 0.260177 \n"
     ]
    },
    {
     "data": {
      "application/vnd.jupyter.widget-view+json": {
       "model_id": "910688d803a049baaa9d139c45a37155",
       "version_major": 2,
       "version_minor": 0
      },
      "text/plain": [
       "  0%|          | 0/469 [00:00<?, ?it/s]"
      ]
     },
     "metadata": {},
     "output_type": "display_data"
    },
    {
     "name": "stdout",
     "output_type": "stream",
     "text": [
      "[epoch:  30/ 50, batch:   784/ 7500, ite: 13650] train loss: 1.878658, tar: 0.259327 \n",
      "[epoch:  30/ 50, batch:  1584/ 7500, ite: 13700] train loss: 1.875158, tar: 0.258821 \n",
      "[epoch:  30/ 50, batch:  2384/ 7500, ite: 13750] train loss: 1.871670, tar: 0.258365 \n",
      "[epoch:  30/ 50, batch:  3184/ 7500, ite: 13800] train loss: 1.867064, tar: 0.257647 \n",
      "[epoch:  30/ 50, batch:  3984/ 7500, ite: 13850] train loss: 1.867850, tar: 0.257695 \n",
      "[epoch:  30/ 50, batch:  4784/ 7500, ite: 13900] train loss: 1.876976, tar: 0.258997 \n",
      "[epoch:  30/ 50, batch:  5584/ 7500, ite: 13950] train loss: 1.882099, tar: 0.259791 \n",
      "[epoch:  30/ 50, batch:  6384/ 7500, ite: 14000] train loss: 1.882877, tar: 0.259915 \n",
      "[epoch:  30/ 50, batch:  7184/ 7500, ite: 14050] train loss: 1.922457, tar: 0.265014 \n"
     ]
    },
    {
     "data": {
      "application/vnd.jupyter.widget-view+json": {
       "model_id": "4dfc1c0b72914bdca1cd1b2173f72fd0",
       "version_major": 2,
       "version_minor": 0
      },
      "text/plain": [
       "  0%|          | 0/469 [00:00<?, ?it/s]"
      ]
     },
     "metadata": {},
     "output_type": "display_data"
    },
    {
     "name": "stdout",
     "output_type": "stream",
     "text": [
      "[epoch:  31/ 50, batch:   480/ 7500, ite: 14100] train loss: 1.830385, tar: 0.251952 \n",
      "[epoch:  31/ 50, batch:  1280/ 7500, ite: 14150] train loss: 1.816107, tar: 0.250317 \n",
      "[epoch:  31/ 50, batch:  2080/ 7500, ite: 14200] train loss: 1.831101, tar: 0.252053 \n",
      "[epoch:  31/ 50, batch:  2880/ 7500, ite: 14250] train loss: 1.835706, tar: 0.252730 \n",
      "[epoch:  31/ 50, batch:  3680/ 7500, ite: 14300] train loss: 1.830585, tar: 0.252120 \n",
      "[epoch:  31/ 50, batch:  4480/ 7500, ite: 14350] train loss: 1.833206, tar: 0.252555 \n",
      "[epoch:  31/ 50, batch:  5280/ 7500, ite: 14400] train loss: 1.841595, tar: 0.253836 \n",
      "[epoch:  31/ 50, batch:  6080/ 7500, ite: 14450] train loss: 1.842682, tar: 0.253945 \n",
      "[epoch:  31/ 50, batch:  6880/ 7500, ite: 14500] train loss: 1.839484, tar: 0.253508 \n"
     ]
    },
    {
     "data": {
      "application/vnd.jupyter.widget-view+json": {
       "model_id": "0925559bf4034bb6820a10b972043a97",
       "version_major": 2,
       "version_minor": 0
      },
      "text/plain": [
       "  0%|          | 0/469 [00:00<?, ?it/s]"
      ]
     },
     "metadata": {},
     "output_type": "display_data"
    },
    {
     "name": "stdout",
     "output_type": "stream",
     "text": [
      "[epoch:  32/ 50, batch:   176/ 7500, ite: 14550] train loss: 1.846691, tar: 0.254536 \n",
      "[epoch:  32/ 50, batch:   976/ 7500, ite: 14600] train loss: 1.836959, tar: 0.253227 \n",
      "[epoch:  32/ 50, batch:  1776/ 7500, ite: 14650] train loss: 1.835760, tar: 0.253004 \n",
      "[epoch:  32/ 50, batch:  2576/ 7500, ite: 14700] train loss: 1.830653, tar: 0.252231 \n",
      "[epoch:  32/ 50, batch:  3376/ 7500, ite: 14750] train loss: 1.825530, tar: 0.251560 \n",
      "[epoch:  32/ 50, batch:  4176/ 7500, ite: 14800] train loss: 1.827609, tar: 0.251836 \n",
      "[epoch:  32/ 50, batch:  4976/ 7500, ite: 14850] train loss: 1.825479, tar: 0.251584 \n",
      "[epoch:  32/ 50, batch:  5776/ 7500, ite: 14900] train loss: 1.828654, tar: 0.251917 \n",
      "[epoch:  32/ 50, batch:  6576/ 7500, ite: 14950] train loss: 1.821546, tar: 0.250830 \n",
      "[epoch:  32/ 50, batch:  7376/ 7500, ite: 15000] train loss: 1.824028, tar: 0.251176 \n"
     ]
    },
    {
     "data": {
      "application/vnd.jupyter.widget-view+json": {
       "model_id": "3e6c86472f5f41218dd6d6a346a56e44",
       "version_major": 2,
       "version_minor": 0
      },
      "text/plain": [
       "  0%|          | 0/469 [00:00<?, ?it/s]"
      ]
     },
     "metadata": {},
     "output_type": "display_data"
    },
    {
     "name": "stdout",
     "output_type": "stream",
     "text": [
      "[epoch:  33/ 50, batch:   672/ 7500, ite: 15050] train loss: 1.743366, tar: 0.239810 \n",
      "[epoch:  33/ 50, batch:  1472/ 7500, ite: 15100] train loss: 1.811430, tar: 0.249038 \n",
      "[epoch:  33/ 50, batch:  2272/ 7500, ite: 15150] train loss: 1.796279, tar: 0.246531 \n",
      "[epoch:  33/ 50, batch:  3072/ 7500, ite: 15200] train loss: 1.773468, tar: 0.243393 \n",
      "[epoch:  33/ 50, batch:  3872/ 7500, ite: 15250] train loss: 1.766780, tar: 0.242624 \n",
      "[epoch:  33/ 50, batch:  4672/ 7500, ite: 15300] train loss: 1.780437, tar: 0.244564 \n",
      "[epoch:  33/ 50, batch:  5472/ 7500, ite: 15350] train loss: 1.781122, tar: 0.244784 \n",
      "[epoch:  33/ 50, batch:  6272/ 7500, ite: 15400] train loss: 1.803991, tar: 0.248011 \n",
      "[epoch:  33/ 50, batch:  7072/ 7500, ite: 15450] train loss: 1.783942, tar: 0.245016 \n"
     ]
    },
    {
     "data": {
      "application/vnd.jupyter.widget-view+json": {
       "model_id": "6a018bf9cd4347a180dca9c12c28caac",
       "version_major": 2,
       "version_minor": 0
      },
      "text/plain": [
       "  0%|          | 0/469 [00:00<?, ?it/s]"
      ]
     },
     "metadata": {},
     "output_type": "display_data"
    },
    {
     "name": "stdout",
     "output_type": "stream",
     "text": [
      "[epoch:  34/ 50, batch:   368/ 7500, ite: 15500] train loss: 1.780161, tar: 0.244523 \n",
      "[epoch:  34/ 50, batch:  1168/ 7500, ite: 15550] train loss: 1.777341, tar: 0.244036 \n",
      "[epoch:  34/ 50, batch:  1968/ 7500, ite: 15600] train loss: 1.776710, tar: 0.243987 \n",
      "[epoch:  34/ 50, batch:  2768/ 7500, ite: 15650] train loss: 1.762714, tar: 0.241859 \n",
      "[epoch:  34/ 50, batch:  3568/ 7500, ite: 15700] train loss: 1.762598, tar: 0.241957 \n",
      "[epoch:  34/ 50, batch:  4368/ 7500, ite: 15750] train loss: 1.753157, tar: 0.240572 \n",
      "[epoch:  34/ 50, batch:  5168/ 7500, ite: 15800] train loss: 1.754981, tar: 0.240777 \n",
      "[epoch:  34/ 50, batch:  5968/ 7500, ite: 15850] train loss: 1.756554, tar: 0.240995 \n",
      "[epoch:  34/ 50, batch:  6768/ 7500, ite: 15900] train loss: 1.773890, tar: 0.243471 \n"
     ]
    },
    {
     "data": {
      "application/vnd.jupyter.widget-view+json": {
       "model_id": "25d14c27acf84e43b554d5f5a29d6442",
       "version_major": 2,
       "version_minor": 0
      },
      "text/plain": [
       "  0%|          | 0/469 [00:00<?, ?it/s]"
      ]
     },
     "metadata": {},
     "output_type": "display_data"
    },
    {
     "name": "stdout",
     "output_type": "stream",
     "text": [
      "[epoch:  35/ 50, batch:    64/ 7500, ite: 15950] train loss: 1.771096, tar: 0.243101 \n",
      "[epoch:  35/ 50, batch:   864/ 7500, ite: 16000] train loss: 1.772376, tar: 0.243316 \n",
      "[epoch:  35/ 50, batch:  1664/ 7500, ite: 16050] train loss: 1.692023, tar: 0.230621 \n",
      "[epoch:  35/ 50, batch:  2464/ 7500, ite: 16100] train loss: 1.716064, tar: 0.235139 \n",
      "[epoch:  35/ 50, batch:  3264/ 7500, ite: 16150] train loss: 1.696815, tar: 0.232790 \n",
      "[epoch:  35/ 50, batch:  4064/ 7500, ite: 16200] train loss: 1.699916, tar: 0.233200 \n",
      "[epoch:  35/ 50, batch:  4864/ 7500, ite: 16250] train loss: 1.700408, tar: 0.232806 \n",
      "[epoch:  35/ 50, batch:  5664/ 7500, ite: 16300] train loss: 1.711998, tar: 0.234500 \n",
      "[epoch:  35/ 50, batch:  6464/ 7500, ite: 16350] train loss: 1.707235, tar: 0.233782 \n",
      "[epoch:  35/ 50, batch:  7264/ 7500, ite: 16400] train loss: 1.723605, tar: 0.236402 \n"
     ]
    },
    {
     "data": {
      "application/vnd.jupyter.widget-view+json": {
       "model_id": "c4fb6f85401e48b6a8fb6d764ce2d352",
       "version_major": 2,
       "version_minor": 0
      },
      "text/plain": [
       "  0%|          | 0/469 [00:00<?, ?it/s]"
      ]
     },
     "metadata": {},
     "output_type": "display_data"
    },
    {
     "name": "stdout",
     "output_type": "stream",
     "text": [
      "[epoch:  36/ 50, batch:   560/ 7500, ite: 16450] train loss: 1.721121, tar: 0.235920 \n",
      "[epoch:  36/ 50, batch:  1360/ 7500, ite: 16500] train loss: 1.698281, tar: 0.232551 \n",
      "[epoch:  36/ 50, batch:  2160/ 7500, ite: 16550] train loss: 1.704735, tar: 0.233409 \n",
      "[epoch:  36/ 50, batch:  2960/ 7500, ite: 16600] train loss: 1.699251, tar: 0.232674 \n",
      "[epoch:  36/ 50, batch:  3760/ 7500, ite: 16650] train loss: 1.703958, tar: 0.233382 \n",
      "[epoch:  36/ 50, batch:  4560/ 7500, ite: 16700] train loss: 1.704322, tar: 0.233343 \n",
      "[epoch:  36/ 50, batch:  5360/ 7500, ite: 16750] train loss: 1.705171, tar: 0.233534 \n",
      "[epoch:  36/ 50, batch:  6160/ 7500, ite: 16800] train loss: 1.712728, tar: 0.234553 \n",
      "[epoch:  36/ 50, batch:  6960/ 7500, ite: 16850] train loss: 1.715290, tar: 0.234866 \n"
     ]
    },
    {
     "data": {
      "application/vnd.jupyter.widget-view+json": {
       "model_id": "27425bbbef1d4480a9755fad86eedfa3",
       "version_major": 2,
       "version_minor": 0
      },
      "text/plain": [
       "  0%|          | 0/469 [00:00<?, ?it/s]"
      ]
     },
     "metadata": {},
     "output_type": "display_data"
    },
    {
     "name": "stdout",
     "output_type": "stream",
     "text": [
      "[epoch:  37/ 50, batch:   256/ 7500, ite: 16900] train loss: 1.715007, tar: 0.234806 \n",
      "[epoch:  37/ 50, batch:  1056/ 7500, ite: 16950] train loss: 1.707521, tar: 0.233647 \n",
      "[epoch:  37/ 50, batch:  1856/ 7500, ite: 17000] train loss: 1.707042, tar: 0.233546 \n",
      "[epoch:  37/ 50, batch:  2656/ 7500, ite: 17050] train loss: 1.781620, tar: 0.245119 \n",
      "[epoch:  37/ 50, batch:  3456/ 7500, ite: 17100] train loss: 1.629942, tar: 0.222666 \n",
      "[epoch:  37/ 50, batch:  4256/ 7500, ite: 17150] train loss: 1.628483, tar: 0.222123 \n",
      "[epoch:  37/ 50, batch:  5056/ 7500, ite: 17200] train loss: 1.651523, tar: 0.225185 \n",
      "[epoch:  37/ 50, batch:  5856/ 7500, ite: 17250] train loss: 1.660352, tar: 0.226697 \n",
      "[epoch:  37/ 50, batch:  6656/ 7500, ite: 17300] train loss: 1.657926, tar: 0.226446 \n",
      "[epoch:  37/ 50, batch:  7456/ 7500, ite: 17350] train loss: 1.685906, tar: 0.230649 \n"
     ]
    },
    {
     "data": {
      "application/vnd.jupyter.widget-view+json": {
       "model_id": "268bed72a68848e190400d286a3054a2",
       "version_major": 2,
       "version_minor": 0
      },
      "text/plain": [
       "  0%|          | 0/469 [00:00<?, ?it/s]"
      ]
     },
     "metadata": {},
     "output_type": "display_data"
    },
    {
     "name": "stdout",
     "output_type": "stream",
     "text": [
      "[epoch:  38/ 50, batch:   752/ 7500, ite: 17400] train loss: 1.685884, tar: 0.230530 \n",
      "[epoch:  38/ 50, batch:  1552/ 7500, ite: 17450] train loss: 1.681436, tar: 0.230034 \n",
      "[epoch:  38/ 50, batch:  2352/ 7500, ite: 17500] train loss: 1.678149, tar: 0.229599 \n",
      "[epoch:  38/ 50, batch:  3152/ 7500, ite: 17550] train loss: 1.675344, tar: 0.229122 \n",
      "[epoch:  38/ 50, batch:  3952/ 7500, ite: 17600] train loss: 1.676857, tar: 0.229230 \n",
      "[epoch:  38/ 50, batch:  4752/ 7500, ite: 17650] train loss: 1.670701, tar: 0.228257 \n",
      "[epoch:  38/ 50, batch:  5552/ 7500, ite: 17700] train loss: 1.667121, tar: 0.227757 \n",
      "[epoch:  38/ 50, batch:  6352/ 7500, ite: 17750] train loss: 1.663091, tar: 0.227222 \n",
      "[epoch:  38/ 50, batch:  7152/ 7500, ite: 17800] train loss: 1.660937, tar: 0.226912 \n"
     ]
    },
    {
     "data": {
      "application/vnd.jupyter.widget-view+json": {
       "model_id": "ee3b9ccf4cda4e88ac863d310b824572",
       "version_major": 2,
       "version_minor": 0
      },
      "text/plain": [
       "  0%|          | 0/469 [00:00<?, ?it/s]"
      ]
     },
     "metadata": {},
     "output_type": "display_data"
    },
    {
     "name": "stdout",
     "output_type": "stream",
     "text": [
      "[epoch:  39/ 50, batch:   448/ 7500, ite: 17850] train loss: 1.662416, tar: 0.227205 \n",
      "[epoch:  39/ 50, batch:  1248/ 7500, ite: 17900] train loss: 1.658943, tar: 0.226682 \n",
      "[epoch:  39/ 50, batch:  2048/ 7500, ite: 17950] train loss: 1.651396, tar: 0.225528 \n",
      "[epoch:  39/ 50, batch:  2848/ 7500, ite: 18000] train loss: 1.654696, tar: 0.225983 \n",
      "[epoch:  39/ 50, batch:  3648/ 7500, ite: 18050] train loss: 1.603342, tar: 0.217453 \n",
      "[epoch:  39/ 50, batch:  4448/ 7500, ite: 18100] train loss: 1.663776, tar: 0.227487 \n",
      "[epoch:  39/ 50, batch:  5248/ 7500, ite: 18150] train loss: 1.640415, tar: 0.224003 \n",
      "[epoch:  39/ 50, batch:  6048/ 7500, ite: 18200] train loss: 1.644195, tar: 0.224305 \n",
      "[epoch:  39/ 50, batch:  6848/ 7500, ite: 18250] train loss: 1.637443, tar: 0.223366 \n"
     ]
    },
    {
     "data": {
      "application/vnd.jupyter.widget-view+json": {
       "model_id": "ac70135bd71e4aa3bfb9771d4dba81f0",
       "version_major": 2,
       "version_minor": 0
      },
      "text/plain": [
       "  0%|          | 0/469 [00:00<?, ?it/s]"
      ]
     },
     "metadata": {},
     "output_type": "display_data"
    },
    {
     "name": "stdout",
     "output_type": "stream",
     "text": [
      "[epoch:  40/ 50, batch:   144/ 7500, ite: 18300] train loss: 1.640845, tar: 0.224203 \n",
      "[epoch:  40/ 50, batch:   944/ 7500, ite: 18350] train loss: 1.629542, tar: 0.222352 \n",
      "[epoch:  40/ 50, batch:  1744/ 7500, ite: 18400] train loss: 1.645457, tar: 0.224710 \n",
      "[epoch:  40/ 50, batch:  2544/ 7500, ite: 18450] train loss: 1.626444, tar: 0.222043 \n",
      "[epoch:  40/ 50, batch:  3344/ 7500, ite: 18500] train loss: 1.624012, tar: 0.221585 \n",
      "[epoch:  40/ 50, batch:  4144/ 7500, ite: 18550] train loss: 1.628160, tar: 0.222140 \n",
      "[epoch:  40/ 50, batch:  4944/ 7500, ite: 18600] train loss: 1.629475, tar: 0.222286 \n",
      "[epoch:  40/ 50, batch:  5744/ 7500, ite: 18650] train loss: 1.631369, tar: 0.222529 \n",
      "[epoch:  40/ 50, batch:  6544/ 7500, ite: 18700] train loss: 1.633904, tar: 0.222810 \n",
      "[epoch:  40/ 50, batch:  7344/ 7500, ite: 18750] train loss: 1.634502, tar: 0.222957 \n"
     ]
    },
    {
     "data": {
      "application/vnd.jupyter.widget-view+json": {
       "model_id": "a0206282f9a24a97841252144582974a",
       "version_major": 2,
       "version_minor": 0
      },
      "text/plain": [
       "  0%|          | 0/469 [00:00<?, ?it/s]"
      ]
     },
     "metadata": {},
     "output_type": "display_data"
    },
    {
     "name": "stdout",
     "output_type": "stream",
     "text": [
      "[epoch:  41/ 50, batch:   640/ 7500, ite: 18800] train loss: 1.643329, tar: 0.224216 \n",
      "[epoch:  41/ 50, batch:  1440/ 7500, ite: 18850] train loss: 1.630232, tar: 0.222246 \n",
      "[epoch:  41/ 50, batch:  2240/ 7500, ite: 18900] train loss: 1.628703, tar: 0.222028 \n",
      "[epoch:  41/ 50, batch:  3040/ 7500, ite: 18950] train loss: 1.626008, tar: 0.221596 \n",
      "[epoch:  41/ 50, batch:  3840/ 7500, ite: 19000] train loss: 1.626005, tar: 0.221538 \n",
      "[epoch:  41/ 50, batch:  4640/ 7500, ite: 19050] train loss: 1.555559, tar: 0.211288 \n",
      "[epoch:  41/ 50, batch:  5440/ 7500, ite: 19100] train loss: 1.593160, tar: 0.216521 \n",
      "[epoch:  41/ 50, batch:  6240/ 7500, ite: 19150] train loss: 1.576326, tar: 0.214224 \n",
      "[epoch:  41/ 50, batch:  7040/ 7500, ite: 19200] train loss: 1.570061, tar: 0.213880 \n"
     ]
    },
    {
     "data": {
      "application/vnd.jupyter.widget-view+json": {
       "model_id": "24af88c6007649e981d0204d1a34115a",
       "version_major": 2,
       "version_minor": 0
      },
      "text/plain": [
       "  0%|          | 0/469 [00:00<?, ?it/s]"
      ]
     },
     "metadata": {},
     "output_type": "display_data"
    },
    {
     "name": "stdout",
     "output_type": "stream",
     "text": [
      "[epoch:  42/ 50, batch:   336/ 7500, ite: 19250] train loss: 1.580870, tar: 0.215370 \n",
      "[epoch:  42/ 50, batch:  1136/ 7500, ite: 19300] train loss: 1.577364, tar: 0.214748 \n",
      "[epoch:  42/ 50, batch:  1936/ 7500, ite: 19350] train loss: 1.571276, tar: 0.213819 \n",
      "[epoch:  42/ 50, batch:  2736/ 7500, ite: 19400] train loss: 1.570162, tar: 0.213490 \n",
      "[epoch:  42/ 50, batch:  3536/ 7500, ite: 19450] train loss: 1.562486, tar: 0.212420 \n",
      "[epoch:  42/ 50, batch:  4336/ 7500, ite: 19500] train loss: 1.569514, tar: 0.213502 \n",
      "[epoch:  42/ 50, batch:  5136/ 7500, ite: 19550] train loss: 1.549372, tar: 0.210502 \n",
      "[epoch:  42/ 50, batch:  5936/ 7500, ite: 19600] train loss: 1.552944, tar: 0.211042 \n",
      "[epoch:  42/ 50, batch:  6736/ 7500, ite: 19650] train loss: 1.556083, tar: 0.211671 \n"
     ]
    },
    {
     "data": {
      "application/vnd.jupyter.widget-view+json": {
       "model_id": "d176488f46234a8096ce8f8dff618ee6",
       "version_major": 2,
       "version_minor": 0
      },
      "text/plain": [
       "  0%|          | 0/469 [00:00<?, ?it/s]"
      ]
     },
     "metadata": {},
     "output_type": "display_data"
    },
    {
     "name": "stdout",
     "output_type": "stream",
     "text": [
      "[epoch:  43/ 50, batch:    32/ 7500, ite: 19700] train loss: 1.562987, tar: 0.212547 \n",
      "[epoch:  43/ 50, batch:   832/ 7500, ite: 19750] train loss: 1.565374, tar: 0.212989 \n",
      "[epoch:  43/ 50, batch:  1632/ 7500, ite: 19800] train loss: 1.560364, tar: 0.212229 \n",
      "[epoch:  43/ 50, batch:  2432/ 7500, ite: 19850] train loss: 1.558197, tar: 0.211922 \n",
      "[epoch:  43/ 50, batch:  3232/ 7500, ite: 19900] train loss: 1.550788, tar: 0.210804 \n",
      "[epoch:  43/ 50, batch:  4032/ 7500, ite: 19950] train loss: 1.556545, tar: 0.211624 \n",
      "[epoch:  43/ 50, batch:  4832/ 7500, ite: 20000] train loss: 1.556143, tar: 0.211508 \n",
      "[epoch:  43/ 50, batch:  5632/ 7500, ite: 20050] train loss: 1.552029, tar: 0.211236 \n",
      "[epoch:  43/ 50, batch:  6432/ 7500, ite: 20100] train loss: 1.600481, tar: 0.218597 \n",
      "[epoch:  43/ 50, batch:  7232/ 7500, ite: 20150] train loss: 1.626545, tar: 0.222139 \n"
     ]
    },
    {
     "data": {
      "application/vnd.jupyter.widget-view+json": {
       "model_id": "4b9abb4f958445a998f666e36e7a4f3a",
       "version_major": 2,
       "version_minor": 0
      },
      "text/plain": [
       "  0%|          | 0/469 [00:00<?, ?it/s]"
      ]
     },
     "metadata": {},
     "output_type": "display_data"
    },
    {
     "name": "stdout",
     "output_type": "stream",
     "text": [
      "[epoch:  44/ 50, batch:   528/ 7500, ite: 20200] train loss: 1.590212, tar: 0.216705 \n",
      "[epoch:  44/ 50, batch:  1328/ 7500, ite: 20250] train loss: 1.556839, tar: 0.211836 \n",
      "[epoch:  44/ 50, batch:  2128/ 7500, ite: 20300] train loss: 1.555755, tar: 0.211480 \n",
      "[epoch:  44/ 50, batch:  2928/ 7500, ite: 20350] train loss: 1.548868, tar: 0.210608 \n",
      "[epoch:  44/ 50, batch:  3728/ 7500, ite: 20400] train loss: 1.553228, tar: 0.211086 \n",
      "[epoch:  44/ 50, batch:  4528/ 7500, ite: 20450] train loss: 1.552106, tar: 0.210879 \n",
      "[epoch:  44/ 50, batch:  5328/ 7500, ite: 20500] train loss: 1.550462, tar: 0.210721 \n",
      "[epoch:  44/ 50, batch:  6128/ 7500, ite: 20550] train loss: 1.538458, tar: 0.208949 \n",
      "[epoch:  44/ 50, batch:  6928/ 7500, ite: 20600] train loss: 1.559630, tar: 0.212060 \n"
     ]
    },
    {
     "data": {
      "application/vnd.jupyter.widget-view+json": {
       "model_id": "c0f1044118454e03a409730662e3b809",
       "version_major": 2,
       "version_minor": 0
      },
      "text/plain": [
       "  0%|          | 0/469 [00:00<?, ?it/s]"
      ]
     },
     "metadata": {},
     "output_type": "display_data"
    },
    {
     "name": "stdout",
     "output_type": "stream",
     "text": [
      "[epoch:  45/ 50, batch:   224/ 7500, ite: 20650] train loss: 1.556054, tar: 0.211514 \n",
      "[epoch:  45/ 50, batch:  1024/ 7500, ite: 20700] train loss: 1.552514, tar: 0.210991 \n",
      "[epoch:  45/ 50, batch:  1824/ 7500, ite: 20750] train loss: 1.557688, tar: 0.211726 \n",
      "[epoch:  45/ 50, batch:  2624/ 7500, ite: 20800] train loss: 1.556630, tar: 0.211528 \n",
      "[epoch:  45/ 50, batch:  3424/ 7500, ite: 20850] train loss: 1.553987, tar: 0.211111 \n",
      "[epoch:  45/ 50, batch:  4224/ 7500, ite: 20900] train loss: 1.552823, tar: 0.210923 \n",
      "[epoch:  45/ 50, batch:  5024/ 7500, ite: 20950] train loss: 1.551083, tar: 0.210620 \n",
      "[epoch:  45/ 50, batch:  5824/ 7500, ite: 21000] train loss: 1.545365, tar: 0.209725 \n",
      "[epoch:  45/ 50, batch:  6624/ 7500, ite: 21050] train loss: 1.461868, tar: 0.196775 \n",
      "[epoch:  45/ 50, batch:  7424/ 7500, ite: 21100] train loss: 1.502844, tar: 0.203182 \n"
     ]
    },
    {
     "data": {
      "application/vnd.jupyter.widget-view+json": {
       "model_id": "a55edc26523b481eb1083f279d91f788",
       "version_major": 2,
       "version_minor": 0
      },
      "text/plain": [
       "  0%|          | 0/469 [00:00<?, ?it/s]"
      ]
     },
     "metadata": {},
     "output_type": "display_data"
    },
    {
     "name": "stdout",
     "output_type": "stream",
     "text": [
      "[epoch:  46/ 50, batch:   720/ 7500, ite: 21150] train loss: 1.472201, tar: 0.198918 \n",
      "[epoch:  46/ 50, batch:  1520/ 7500, ite: 21200] train loss: 1.456917, tar: 0.196500 \n",
      "[epoch:  46/ 50, batch:  2320/ 7500, ite: 21250] train loss: 1.465835, tar: 0.197955 \n",
      "[epoch:  46/ 50, batch:  3120/ 7500, ite: 21300] train loss: 1.465367, tar: 0.197878 \n",
      "[epoch:  46/ 50, batch:  3920/ 7500, ite: 21350] train loss: 1.461311, tar: 0.197292 \n",
      "[epoch:  46/ 50, batch:  4720/ 7500, ite: 21400] train loss: 1.460587, tar: 0.197072 \n",
      "[epoch:  46/ 50, batch:  5520/ 7500, ite: 21450] train loss: 1.459709, tar: 0.196931 \n",
      "[epoch:  46/ 50, batch:  6320/ 7500, ite: 21500] train loss: 1.475470, tar: 0.199279 \n",
      "[epoch:  46/ 50, batch:  7120/ 7500, ite: 21550] train loss: 1.484432, tar: 0.200658 \n"
     ]
    },
    {
     "data": {
      "application/vnd.jupyter.widget-view+json": {
       "model_id": "86139ea6f0d34cff946453136bd8290a",
       "version_major": 2,
       "version_minor": 0
      },
      "text/plain": [
       "  0%|          | 0/469 [00:00<?, ?it/s]"
      ]
     },
     "metadata": {},
     "output_type": "display_data"
    },
    {
     "name": "stdout",
     "output_type": "stream",
     "text": [
      "[epoch:  47/ 50, batch:   416/ 7500, ite: 21600] train loss: 1.488385, tar: 0.201222 \n",
      "[epoch:  47/ 50, batch:  1216/ 7500, ite: 21650] train loss: 1.490079, tar: 0.201395 \n",
      "[epoch:  47/ 50, batch:  2016/ 7500, ite: 21700] train loss: 1.487235, tar: 0.201078 \n",
      "[epoch:  47/ 50, batch:  2816/ 7500, ite: 21750] train loss: 1.491365, tar: 0.201880 \n",
      "[epoch:  47/ 50, batch:  3616/ 7500, ite: 21800] train loss: 1.490251, tar: 0.201703 \n",
      "[epoch:  47/ 50, batch:  4416/ 7500, ite: 21850] train loss: 1.488192, tar: 0.201308 \n",
      "[epoch:  47/ 50, batch:  5216/ 7500, ite: 21900] train loss: 1.492064, tar: 0.201834 \n",
      "[epoch:  47/ 50, batch:  6016/ 7500, ite: 21950] train loss: 1.491271, tar: 0.201732 \n",
      "[epoch:  47/ 50, batch:  6816/ 7500, ite: 22000] train loss: 1.489582, tar: 0.201485 \n"
     ]
    },
    {
     "data": {
      "application/vnd.jupyter.widget-view+json": {
       "model_id": "9a6c2907a7c04171b0c130d75b3870fd",
       "version_major": 2,
       "version_minor": 0
      },
      "text/plain": [
       "  0%|          | 0/469 [00:00<?, ?it/s]"
      ]
     },
     "metadata": {},
     "output_type": "display_data"
    },
    {
     "name": "stdout",
     "output_type": "stream",
     "text": [
      "[epoch:  48/ 50, batch:   112/ 7500, ite: 22050] train loss: 1.458662, tar: 0.196529 \n",
      "[epoch:  48/ 50, batch:   912/ 7500, ite: 22100] train loss: 1.470723, tar: 0.198307 \n",
      "[epoch:  48/ 50, batch:  1712/ 7500, ite: 22150] train loss: 1.449739, tar: 0.195515 \n",
      "[epoch:  48/ 50, batch:  2512/ 7500, ite: 22200] train loss: 1.440297, tar: 0.194257 \n",
      "[epoch:  48/ 50, batch:  3312/ 7500, ite: 22250] train loss: 1.455241, tar: 0.196520 \n",
      "[epoch:  48/ 50, batch:  4112/ 7500, ite: 22300] train loss: 1.464627, tar: 0.197813 \n",
      "[epoch:  48/ 50, batch:  4912/ 7500, ite: 22350] train loss: 1.444799, tar: 0.194998 \n",
      "[epoch:  48/ 50, batch:  5712/ 7500, ite: 22400] train loss: 1.463236, tar: 0.197637 \n",
      "[epoch:  48/ 50, batch:  6512/ 7500, ite: 22450] train loss: 1.457702, tar: 0.196791 \n",
      "[epoch:  48/ 50, batch:  7312/ 7500, ite: 22500] train loss: 1.464141, tar: 0.197723 \n"
     ]
    },
    {
     "data": {
      "application/vnd.jupyter.widget-view+json": {
       "model_id": "6404455060974ca68e8047d1accdca98",
       "version_major": 2,
       "version_minor": 0
      },
      "text/plain": [
       "  0%|          | 0/469 [00:00<?, ?it/s]"
      ]
     },
     "metadata": {},
     "output_type": "display_data"
    },
    {
     "name": "stdout",
     "output_type": "stream",
     "text": [
      "[epoch:  49/ 50, batch:   608/ 7500, ite: 22550] train loss: 1.462907, tar: 0.197505 \n",
      "[epoch:  49/ 50, batch:  1408/ 7500, ite: 22600] train loss: 1.458185, tar: 0.196735 \n",
      "[epoch:  49/ 50, batch:  2208/ 7500, ite: 22650] train loss: 1.458473, tar: 0.196778 \n",
      "[epoch:  49/ 50, batch:  3008/ 7500, ite: 22700] train loss: 1.449434, tar: 0.195536 \n",
      "[epoch:  49/ 50, batch:  3808/ 7500, ite: 22750] train loss: 1.442729, tar: 0.194596 \n",
      "[epoch:  49/ 50, batch:  4608/ 7500, ite: 22800] train loss: 1.437421, tar: 0.193796 \n",
      "[epoch:  49/ 50, batch:  5408/ 7500, ite: 22850] train loss: 1.442085, tar: 0.194502 \n",
      "[epoch:  49/ 50, batch:  6208/ 7500, ite: 22900] train loss: 1.437622, tar: 0.193872 \n",
      "[epoch:  49/ 50, batch:  7008/ 7500, ite: 22950] train loss: 1.443002, tar: 0.194614 \n"
     ]
    },
    {
     "data": {
      "application/vnd.jupyter.widget-view+json": {
       "model_id": "a53a7ccbef504e4b8f8c18bf0d37d6b3",
       "version_major": 2,
       "version_minor": 0
      },
      "text/plain": [
       "  0%|          | 0/469 [00:00<?, ?it/s]"
      ]
     },
     "metadata": {},
     "output_type": "display_data"
    },
    {
     "name": "stdout",
     "output_type": "stream",
     "text": [
      "[epoch:  50/ 50, batch:   304/ 7500, ite: 23000] train loss: 1.446585, tar: 0.195125 \n",
      "[epoch:  50/ 50, batch:  1104/ 7500, ite: 23050] train loss: 1.373618, tar: 0.182556 \n",
      "[epoch:  50/ 50, batch:  1904/ 7500, ite: 23100] train loss: 1.464889, tar: 0.196518 \n",
      "[epoch:  50/ 50, batch:  2704/ 7500, ite: 23150] train loss: 1.465368, tar: 0.197254 \n",
      "[epoch:  50/ 50, batch:  3504/ 7500, ite: 23200] train loss: 1.429059, tar: 0.192067 \n",
      "[epoch:  50/ 50, batch:  4304/ 7500, ite: 23250] train loss: 1.421225, tar: 0.190837 \n",
      "[epoch:  50/ 50, batch:  5104/ 7500, ite: 23300] train loss: 1.421384, tar: 0.190714 \n",
      "[epoch:  50/ 50, batch:  5904/ 7500, ite: 23350] train loss: 1.428863, tar: 0.191794 \n",
      "[epoch:  50/ 50, batch:  6704/ 7500, ite: 23400] train loss: 1.420352, tar: 0.190700 \n",
      "[epoch:  50/ 50, batch:  7504/ 7500, ite: 23450] train loss: 1.432142, tar: 0.192547 \n"
     ]
    }
   ],
   "source": [
    "# ------- 5. training process --------\n",
    "print(\"---start training...\")\n",
    "ite_num = 0\n",
    "running_loss = 0.0\n",
    "running_tar_loss = 0.0\n",
    "ite_num4val = 0\n",
    "save_frq = 1000 # save the model every 2000 iterations\n",
    "\n",
    "for epoch in range(0, epoch_num):\n",
    "    net.train()\n",
    "    \n",
    "    for i, data in enumerate(tqdm_notebook(salobj_dataloader)):\n",
    "        ite_num = ite_num + 1\n",
    "        ite_num4val = ite_num4val + 1\n",
    "\n",
    "        inputs, labels = data['image'], data['label']\n",
    "\n",
    "        inputs = inputs.type(torch.FloatTensor)\n",
    "        labels = labels.type(torch.FloatTensor)\n",
    "        \n",
    "        # wrap them in Variable\n",
    "        if torch.cuda.is_available():\n",
    "            inputs_v, labels_v = Variable(inputs.cuda(), requires_grad=False), Variable(labels.cuda(),\n",
    "                                                                                        requires_grad=False)\n",
    "        else:\n",
    "            inputs_v, labels_v = Variable(inputs, requires_grad=False), Variable(labels, requires_grad=False)\n",
    "        # y zero the parameter gradients\n",
    "        optimizer.zero_grad()\n",
    "        # forward + backward + optimize\n",
    "        d0, d1, d2, d3, d4, d5, d6 = net(inputs_v.float())\n",
    "        loss2, loss = muti_bce_loss_fusion(d0.float(), d1.float(), d2.float(), d3.float(), d4.float(), d5.float(), d6.float(), labels_v.float())\n",
    "        loss.backward()\n",
    "        optimizer.step()\n",
    "\n",
    "        # # print statistics\n",
    "        running_loss += loss.data.item()\n",
    "        running_tar_loss += loss2.data.item()\n",
    "\n",
    "        # del temporary outputs and loss\n",
    "        del d0, d1, d2, d3, d4, d5, d6, loss2, loss\n",
    "\n",
    "        if ite_num % 50 == 0:\n",
    "            print(\"[epoch: %3d/%3d, batch: %5d/%5d, ite: %d] train loss: %3f, tar: %3f \" % (\n",
    "            epoch + 1, epoch_num, (i + 1) * batch_size_train, train_num, ite_num, running_loss / ite_num4val, running_tar_loss / ite_num4val))\n",
    "\n",
    "        if ite_num % save_frq == 0:\n",
    "\n",
    "            torch.save(net.state_dict(), model_dir + model_name+\"_bce_itr_%d_train_%3f_tar_%3f.pth\" % (ite_num, running_loss / ite_num4val, running_tar_loss / ite_num4val))\n",
    "            running_loss = 0.0\n",
    "            running_tar_loss = 0.0\n",
    "            net.train()  # resume train\n",
    "            ite_num4val = 0"
   ]
  },
  {
   "cell_type": "code",
   "execution_count": null,
   "id": "7bccff80-2b99-4a45-8d3f-c7be35f53d08",
   "metadata": {},
   "outputs": [],
   "source": []
  }
 ],
 "metadata": {
  "kernelspec": {
   "display_name": "Python 3 (ipykernel)",
   "language": "python",
   "name": "python3"
  },
  "language_info": {
   "codemirror_mode": {
    "name": "ipython",
    "version": 3
   },
   "file_extension": ".py",
   "mimetype": "text/x-python",
   "name": "python",
   "nbconvert_exporter": "python",
   "pygments_lexer": "ipython3",
   "version": "3.9.16"
  }
 },
 "nbformat": 4,
 "nbformat_minor": 5
}
