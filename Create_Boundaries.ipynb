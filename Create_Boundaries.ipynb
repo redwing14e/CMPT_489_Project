{
 "cells": [
  {
   "cell_type": "code",
   "execution_count": 1,
   "id": "99c27d6c-7691-4911-87a9-5039895b4885",
   "metadata": {},
   "outputs": [
    {
     "name": "stdout",
     "output_type": "stream",
     "text": [
      "D:\\CMPT_489_Bulk\\Data\\\n",
      "Path exists: True\n"
     ]
    }
   ],
   "source": [
    "import os as os \n",
    "import skimage.io as io\n",
    "\n",
    "dataPath = os.path.join('D:\\\\', 'CMPT_489_Bulk', 'Data' + os.sep)\n",
    "print(dataPath)\n",
    "print(\"Path exists:\", os.path.isdir(dataPath))"
   ]
  },
  {
   "cell_type": "code",
   "execution_count": 2,
   "id": "af107ba9-effe-4080-b81b-993e61c988c8",
   "metadata": {},
   "outputs": [],
   "source": [
    "\"\"\"\n",
    "The following example code loops through all the images in the specified dataset\n",
    "split, creates a binary ground truth mask of each image, and then appends the \n",
    "binary ground truth mask to a list. The mask list can then be used for model \n",
    "training, analysis, and other tasks.\n",
    "\n",
    "Participants can set 'write_binary_masks' to True to write the binary mask as \n",
    "an 8-bit PNG per the challenge's submission requirements. Ensure to update the \n",
    "path as needed. This code assumes the JSON files and image directories are \n",
    "stored at the root level of the project directory. \n",
    "\n",
    "Final submissions for binary ground truth masks must be of dimensions 720 x 720.\n",
    "\"\"\"\n",
    "import cv2\n",
    "import json\n",
    "import numpy as np\n",
    "\n",
    "from tqdm.notebook import tqdm"
   ]
  },
  {
   "cell_type": "code",
   "execution_count": 9,
   "id": "471edc82-439c-4cd9-bb9b-7269143af1fb",
   "metadata": {},
   "outputs": [
    {
     "name": "stdout",
     "output_type": "stream",
     "text": [
      "D:\\CMPT_489_Bulk\\Data\\sub_matching_data\\train\\\n"
     ]
    },
    {
     "data": {
      "application/vnd.jupyter.widget-view+json": {
       "model_id": "59413d02b18143bdb485e91dd80aea3e",
       "version_major": 2,
       "version_minor": 0
      },
      "text/plain": [
       "  0%|          | 0/19116 [00:00<?, ?it/s]"
      ]
     },
     "metadata": {},
     "output_type": "display_data"
    }
   ],
   "source": [
    "# Change split to \"val\" or \"train\" to work on different split. \n",
    "split = \"train\"\n",
    "images_path = os.path.join(dataPath, \"sub_matching_data\", f\"{split}\" + os.sep)\n",
    "json_path = os.path.join(dataPath, f\"VizWiz_SOD_{split}_challenge.json\")\n",
    "\n",
    "print(images_path)\n",
    "# Change to True to write binary masks as 8-bit PNG files\n",
    "write_binary_masks = False\n",
    "write_match_image = False\n",
    "write_bound_mask = True\n",
    "\n",
    "dataset = json.load(\n",
    "    file := open(json_path, \"r\")\n",
    "); file.close()\n",
    "\n",
    "binary_mask_list = []\n",
    "bound_mask_list = []\n",
    "for image in tqdm(dataset):\n",
    "    \n",
    "    #check if the image is \n",
    "    if not (os.path.isfile(images_path + image[:-3] + \"png\")):\n",
    "        continue\n",
    "    original_image = cv2.imread(images_path + image[:-3] + \"png\")\n",
    "    json_resized_dimensions = dataset[image][\"Ground Truth Dimensions\"]\n",
    "\n",
    "    # Get dimensions of original image and resized image from JSON data\n",
    "    original_dimensions = original_image.shape\n",
    "    original_height = int(original_dimensions[0])\n",
    "    original_width = int(original_dimensions[1])\n",
    "    resized_height = json_resized_dimensions[0]\n",
    "    resized_width = json_resized_dimensions[1]\n",
    "\n",
    "    # Resize image to match JSON data\n",
    "    resized_image = cv2.resize(\n",
    "        original_image,\n",
    "        (resized_width, resized_height),\n",
    "        interpolation = cv2.INTER_AREA\n",
    "    )\n",
    "\n",
    "    # Assert resized image dimensions matches JSON data and create stencil\n",
    "    resized_dimensions = [resized_image.shape[0], resized_image.shape[1]]\n",
    "    assert resized_dimensions == json_resized_dimensions\n",
    "    stencil = np.zeros(resized_dimensions, dtype = np.uint8)\n",
    "    full_screen = dataset[image][\"Full Screen\"]\n",
    "\n",
    "    # If the salient object is full screen then invert the stencil\n",
    "    if full_screen:\n",
    "        mask = cv2.bitwise_not(stencil)\n",
    "        bound = mask.copy()\n",
    "        bound[1:bound.shape[0]-1, 1:bound.shape[1]-1] = cv2.bitwise_not(bound[1:bound.shape[0]-1, 1:bound.shape[1]-1])\n",
    "        \n",
    "        \n",
    "    \n",
    "    # Otherwise create a binary mask of the salient object\n",
    "    else:\n",
    "        color = [255, 255, 255]\n",
    "        salient_object_points = dataset[image][\"Salient Object\"]\n",
    "        numpy_list = [np.array(polygon) for polygon in salient_object_points]\n",
    "        copy = stencil.copy()\n",
    "        mask = cv2.fillPoly(stencil, numpy_list, color)\n",
    "        bound = cv2.polylines(copy, numpy_list, True, color, 1)\n",
    "    \n",
    "    # Append binary mask to binary mask list\n",
    "    binary_mask_list.append(mask)\n",
    "    bound_mask_list.append(bound)\n",
    "    \n",
    "    \n",
    "    # Write PNG files if write_binary_masks = True\n",
    "    if write_bound_mask:\n",
    "        cv2.imwrite(os.path.join(dataPath, f\"sub_boundaries\\\\{split}\\\\\") + image[0:-3] + \"png\", bound)\n",
    "\n",
    "    if write_binary_masks:\n",
    "        cv2.imwrite(os.path.join(dataPath, f\"sub_boundries\\\\{split}\\\\\") + image[0:-3] + \"png\", mask)\n",
    "    \n",
    "    if write_match_image:\n",
    "        cv2.imwrite(os.path.join(dataPath, f\"matching_data\\\\{split}\\\\\") + image[0:-3] + \"png\", resized_image)"
   ]
  },
  {
   "cell_type": "code",
   "execution_count": null,
   "id": "510a0ad1-50c8-4c52-8385-40fd47ce3e05",
   "metadata": {},
   "outputs": [],
   "source": []
  }
 ],
 "metadata": {
  "kernelspec": {
   "display_name": "Python 3 (ipykernel)",
   "language": "python",
   "name": "python3"
  },
  "language_info": {
   "codemirror_mode": {
    "name": "ipython",
    "version": 3
   },
   "file_extension": ".py",
   "mimetype": "text/x-python",
   "name": "python",
   "nbconvert_exporter": "python",
   "pygments_lexer": "ipython3",
   "version": "3.9.16"
  }
 },
 "nbformat": 4,
 "nbformat_minor": 5
}
