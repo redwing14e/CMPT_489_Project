{
 "cells": [
  {
   "cell_type": "markdown",
   "id": "3cca0325-91ac-4d4e-ba46-5d551cb0eb9c",
   "metadata": {},
   "source": [
    "# Create Ground Truth Images\n",
    "## Path to Dataset"
   ]
  },
  {
   "cell_type": "code",
   "execution_count": 3,
   "id": "97d215cc-c7b5-4ab9-945d-df7716bd447a",
   "metadata": {},
   "outputs": [
    {
     "name": "stdout",
     "output_type": "stream",
     "text": [
      "D:\\CMPT_489_Bulk\\Data\n",
      "Path exists: True\n"
     ]
    }
   ],
   "source": [
    "import os as os \n",
    "import skimage.io as io\n",
    "\n",
    "dataPath = os.path.join('D:\\\\', 'CMPT_489_Bulk', 'Data')\n",
    "print(dataPath)\n",
    "print(\"Path exists:\", os.path.isdir(dataPath))\n",
    "\n"
   ]
  },
  {
   "cell_type": "markdown",
   "id": "1530f907-c58c-4211-b52c-fc9aeecaa1ad",
   "metadata": {},
   "source": [
    "## Create Ground Truth Images\n",
    " \n",
    "Code modified from original Found at https://vizwiz.org/wp-content/uploads/2023/01/sod_mask_example.txt"
   ]
  },
  {
   "cell_type": "code",
   "execution_count": 5,
   "id": "363c0689-230f-4193-80ca-16dabe7312fb",
   "metadata": {},
   "outputs": [
    {
     "data": {
      "application/vnd.jupyter.widget-view+json": {
       "model_id": "a5e86b12cbec42fbad0804562d26aeac",
       "version_major": 2,
       "version_minor": 0
      },
      "text/plain": [
       "  0%|          | 0/19116 [00:00<?, ?it/s]"
      ]
     },
     "metadata": {},
     "output_type": "display_data"
    }
   ],
   "source": [
    "\"\"\"\n",
    "The following example code loops through all the images in the specified dataset\n",
    "split, creates a binary ground truth mask of each image, and then appends the \n",
    "binary ground truth mask to a list. The mask list can then be used for model \n",
    "training, analysis, and other tasks.\n",
    "\n",
    "Participants can set 'write_binary_masks' to True to write the binary mask as \n",
    "an 8-bit PNG per the challenge's submission requirements. Ensure to update the \n",
    "path as needed. This code assumes the JSON files and image directories are \n",
    "stored at the root level of the project directory. \n",
    "\n",
    "Final submissions for binary ground truth masks must be of dimensions 720 x 720.\n",
    "\"\"\"\n",
    "import cv2\n",
    "import json\n",
    "import numpy as np\n",
    "\n",
    "from tqdm.notebook import tqdm\n",
    "\n",
    "# Change split to \"val\" or \"train\" to work on different split. \n",
    "split = \"train\"\n",
    "images_path = os.path.join( dataPath, f\"{split}\\\\\")\n",
    "json_path = os.path.join(dataPath, f\"VizWiz_SOD_{split}_challenge.json\")\n",
    "\n",
    "# Change to True to write binary masks as 8-bit PNG files\n",
    "write_binary_masks = True\n",
    "write_match_image = True\n",
    "\n",
    "dataset = json.load(\n",
    "    file := open(json_path, \"r\")\n",
    "); file.close()\n",
    "\n",
    "binary_mask_list = []\n",
    "for image in tqdm(dataset):\n",
    "    \n",
    "    #check if the image is \n",
    "    if not (os.path.isfile(images_path + image)):\n",
    "        continue\n",
    "    \n",
    "    original_image = cv2.imread(images_path + image)\n",
    "    json_resized_dimensions = dataset[image][\"Ground Truth Dimensions\"]\n",
    "\n",
    "    # Get dimensions of original image and resized image from JSON data\n",
    "    original_dimensions = original_image.shape\n",
    "    original_height = int(original_dimensions[0])\n",
    "    original_width = int(original_dimensions[1])\n",
    "    resized_height = json_resized_dimensions[0]\n",
    "    resized_width = json_resized_dimensions[1]\n",
    "\n",
    "    # Resize image to match JSON data\n",
    "    resized_image = cv2.resize(\n",
    "        original_image,\n",
    "        (resized_width, resized_height),\n",
    "        interpolation = cv2.INTER_AREA\n",
    "    )\n",
    "\n",
    "    # Assert resized image dimensions matches JSON data and create stencil\n",
    "    resized_dimensions = [resized_image.shape[0], resized_image.shape[1]]\n",
    "    assert resized_dimensions == json_resized_dimensions\n",
    "    stencil = np.zeros(resized_dimensions, dtype = np.uint8)\n",
    "    full_screen = dataset[image][\"Full Screen\"]\n",
    "\n",
    "    # If the salient object is full screen then invert the stencil\n",
    "    if full_screen:\n",
    "        mask = cv2.bitwise_not(stencil)\n",
    "    \n",
    "    # Otherwise create a binary mask of the salient object\n",
    "    else:\n",
    "        color = [255, 255, 255]\n",
    "        salient_object_points = dataset[image][\"Salient Object\"]\n",
    "        numpy_list = [np.array(polygon) for polygon in salient_object_points]\n",
    "        mask = cv2.fillPoly(stencil, numpy_list, color)\n",
    "    \n",
    "    # Append binary mask to binary mask list\n",
    "    binary_mask_list.append(mask)\n",
    "    \n",
    "    # Write PNG files if write_binary_masks = True\n",
    "    if write_binary_masks:\n",
    "        cv2.imwrite(os.path.join(dataPath, f\"binary_masks\\\\{split}\\\\\") + image[0:-3] + \"png\", mask)\n",
    "    \n",
    "    if write_match_image:\n",
    "        cv2.imwrite(os.path.join(dataPath, f\"matching_data\\\\{split}\\\\\") + image[0:-3] + \"png\", resized_image)"
   ]
  },
  {
   "cell_type": "code",
   "execution_count": 17,
   "id": "4abc633b-253f-4d1d-938c-7f0845d78d68",
   "metadata": {},
   "outputs": [],
   "source": [
    "max_width = 0\n",
    "max_width_shape = (0,0)\n",
    "max_height = 0\n",
    "max_height_shape = (0,0)\n",
    "max_shape = (0,0) # max total pixels \n",
    "for mask in binary_mask_list:\n",
    "    if mask.shape[0] > max_height:\n",
    "        max_height = mask.shape[0]\n",
    "        max_height_shape = mask.shape\n",
    "    if mask.shape[1] > max_width:\n",
    "        max_width = mask.shape[1]\n",
    "        max_width_shape = mask.shape\n",
    "    if (mask.shape[0] * mask.shape[1] > max_shape[0] * max_shape[1]):\n",
    "        max_shape = mask.shape\n",
    "    "
   ]
  },
  {
   "cell_type": "code",
   "execution_count": 18,
   "id": "d8a9b213-d1d0-44fd-8868-8cdfaedf8980",
   "metadata": {},
   "outputs": [
    {
     "name": "stdout",
     "output_type": "stream",
     "text": [
      "(501, 388)\n",
      "401 (300, 401)\n",
      "501 (501, 375)\n"
     ]
    }
   ],
   "source": [
    "print (max_shape)\n",
    "print(max_width, max_width_shape)\n",
    "print(max_height, max_height_shape)"
   ]
  },
  {
   "cell_type": "code",
   "execution_count": 41,
   "id": "6a737aaf-b5bb-4d7d-bfae-f4b604ac6a5c",
   "metadata": {},
   "outputs": [],
   "source": [
    "import skimage as sk\n",
    "binary_mask = []\n",
    "for mask in binary_mask_list:\n",
    "    binary_mask.append(sk.img_as_bool(mask))"
   ]
  },
  {
   "cell_type": "code",
   "execution_count": 47,
   "id": "9bc967d7-1131-42f0-942a-3a7887cf6cba",
   "metadata": {},
   "outputs": [],
   "source": [
    "coverage = []\n",
    "for mask in binary_mask:\n",
    "    coverage.append(np.sum(mask) / (mask.shape[0] * mask.shape[1]))"
   ]
  },
  {
   "cell_type": "code",
   "execution_count": 57,
   "id": "c349f5c4-72c3-44fd-81e3-73b2e20d8477",
   "metadata": {},
   "outputs": [
    {
     "name": "stdout",
     "output_type": "stream",
     "text": [
      "0.4631821530272788\n",
      "0.26211220900468946\n"
     ]
    }
   ],
   "source": [
    "print(np.median(coverage))\n",
    "print(np.percentile(coverage, 25))"
   ]
  },
  {
   "cell_type": "code",
   "execution_count": null,
   "id": "85ff2e99-0780-4c92-812d-88aa78e5d0bd",
   "metadata": {},
   "outputs": [],
   "source": []
  }
 ],
 "metadata": {
  "kernelspec": {
   "display_name": "Python 3 (ipykernel)",
   "language": "python",
   "name": "python3"
  },
  "language_info": {
   "codemirror_mode": {
    "name": "ipython",
    "version": 3
   },
   "file_extension": ".py",
   "mimetype": "text/x-python",
   "name": "python",
   "nbconvert_exporter": "python",
   "pygments_lexer": "ipython3",
   "version": "3.9.16"
  }
 },
 "nbformat": 4,
 "nbformat_minor": 5
}
