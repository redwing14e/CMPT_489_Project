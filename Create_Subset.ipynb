{
 "cells": [
  {
   "cell_type": "code",
   "execution_count": 11,
   "id": "c8181dd7-36f3-4385-b77f-24041d96051f",
   "metadata": {},
   "outputs": [],
   "source": [
    "import os as os \n",
    "import skimage.io as io\n",
    "import numpy as np\n",
    "import tqdm.notebook as tqmd\n",
    "import skimage.util as util\n",
    "import random\n",
    "import shutil\n",
    "\n",
    "\n",
    "train_dataPath = os.path.join('D:\\\\', 'CMPT_489_Bulk', 'Data', \"matching_data\", \"train\")\n",
    "train_maskPath = os.path.join('D:\\\\', 'CMPT_489_Bulk', 'Data', \"binary_masks\", \"train\")\n",
    "val_dataPath = os.path.join('D:\\\\', 'CMPT_489_Bulk', 'Data', \"matching_data\", \"val\")\n",
    "val_maskPath = os.path.join('D:\\\\', 'CMPT_489_Bulk', 'Data', \"binary_masks\", \"val\")\n",
    "\n",
    "\n",
    "sub_train_dataPath = os.path.join('D:\\\\', 'CMPT_489_Bulk', 'Data', \"sub_matching_data\", \"train\")\n",
    "sub_train_maskPath = os.path.join('D:\\\\', 'CMPT_489_Bulk', 'Data', \"sub_binary_masks\", \"train\")\n",
    "sub_val_dataPath = os.path.join('D:\\\\', 'CMPT_489_Bulk', 'Data', \"sub_matching_data\", \"val\")\n",
    "sub_val_maskPath = os.path.join('D:\\\\', 'CMPT_489_Bulk', 'Data', \"sub_binary_masks\", \"val\")\n",
    "\n",
    "\n"
   ]
  },
  {
   "cell_type": "code",
   "execution_count": 14,
   "id": "397c1936-3646-4aef-8582-f36ade4b8456",
   "metadata": {},
   "outputs": [],
   "source": [
    "\n",
    "\n",
    "train_filenames = random.sample(os.listdir(train_dataPath), 7500)\n",
    "val_filenames = random.sample(os.listdir(val_dataPath), 2500)\n",
    "\n",
    "for file in train_filenames:\n",
    "    img_path = os.path.join(train_dataPath, file)\n",
    "    mask_path = os.path.join(train_maskPath, file)\n",
    "    \n",
    "    shutil.copy(img_path, sub_train_dataPath)\n",
    "    shutil.copy(mask_path, sub_train_maskPath)\n",
    "\n",
    "for file in val_filenames:\n",
    "    img_path = os.path.join(val_dataPath, file)\n",
    "    mask_path = os.path.join(val_maskPath, file)\n",
    "    \n",
    "    shutil.copy(img_path, sub_val_dataPath)\n",
    "    shutil.copy(mask_path, sub_val_maskPath)"
   ]
  },
  {
   "cell_type": "code",
   "execution_count": null,
   "id": "14136367-2bf4-46be-ad52-7e74cd58b4e2",
   "metadata": {},
   "outputs": [],
   "source": []
  }
 ],
 "metadata": {
  "kernelspec": {
   "display_name": "Python 3 (ipykernel)",
   "language": "python",
   "name": "python3"
  },
  "language_info": {
   "codemirror_mode": {
    "name": "ipython",
    "version": 3
   },
   "file_extension": ".py",
   "mimetype": "text/x-python",
   "name": "python",
   "nbconvert_exporter": "python",
   "pygments_lexer": "ipython3",
   "version": "3.9.16"
  }
 },
 "nbformat": 4,
 "nbformat_minor": 5
}
